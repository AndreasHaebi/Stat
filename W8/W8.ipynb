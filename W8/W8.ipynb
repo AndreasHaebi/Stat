{
 "cells": [
  {
   "cell_type": "markdown",
   "metadata": {},
   "source": [
    "## Aufgabe 8.1\n",
    "Der skeptische Konsument gibt nicht auf und versucht weiterhin, den Weinhändler\n",
    "des Betrugs zu überführen. Der Weininhalt der 12 erworbenen Weinflaschen lauten:\n",
    "71, 69, 67, 68, 73, 72, 71, 71, 68, 72, 69, 72 (in Zentiliter)."
   ]
  },
  {
   "cell_type": "markdown",
   "metadata": {},
   "source": [
    "a) Nun zweifeln wir daran, ob die Daten wirklich gut durch eine Normalverteilung\n",
    "beschrieben werden können (diese Annahme haben wir sowohl beim z- als auch\n",
    "beim t-Test gemacht). Wenn die Normalverteilungsannahme nicht gemacht\n",
    "werden kann, können wir den Vorzeichen-Test durchführen. Führen Sie also\n",
    "den Vorzeichen-Test auf dem 5 %-Signifikanzniveau durch. Wie lautet nun das\n",
    "Ergebnis? Python-Hinweis:"
   ]
  },
  {
   "cell_type": "code",
   "execution_count": 6,
   "metadata": {},
   "outputs": [
    {
     "name": "stdout",
     "output_type": "stream",
     "text": [
      "0.80615234375\n"
     ]
    }
   ],
   "source": [
    "import scipy.stats as st\n",
    "from scipy.stats import binom\n",
    "from pandas import Series\n",
    "\n",
    "x = Series([71, 69, 67, 68, 73, 72, 71, 71, 68, 72, 69, 72])\n",
    "ew = 70\n",
    "count = 0\n",
    "\n",
    "for s in x:\n",
    "    if s-ew >= 0:\n",
    "        count = count+1\n",
    "        \n",
    "k = count\n",
    "res = st.binom.cdf(k=k, n=12, p=0.5)\n",
    "print(res)"
   ]
  },
  {
   "cell_type": "markdown",
   "metadata": {},
   "source": [
    "H0 wird nicht verworfen da 0.8 deutlich grösser ist"
   ]
  },
  {
   "cell_type": "code",
   "execution_count": null,
   "metadata": {},
   "outputs": [],
   "source": [
    "b) Wie lautet das Ergebnis mit dem Wilcoxon-Test?"
   ]
  },
  {
   "cell_type": "code",
   "execution_count": 10,
   "metadata": {},
   "outputs": [
    {
     "name": "stdout",
     "output_type": "stream",
     "text": [
      "0.655\n"
     ]
    }
   ],
   "source": [
    "from pandas import Series\n",
    "import scipy.stats as st\n",
    "ew=70\n",
    "\n",
    "x = Series([71, 69, 67, 68, 73, 72, 71, 71, 68, 72, 69, 72])\n",
    "st.wilcoxon(x-ew, zero_method=\"wilcox\", correction=True)\n",
    "\n",
    "print(1-0.69/2)"
   ]
  },
  {
   "cell_type": "markdown",
   "metadata": {},
   "source": [
    "## Aufgabe 8.3\n",
    "Zwei Tiefen-Messgeräte messen für die Tiefe einer Gesteins-Schicht an 9 verschiedenen Orten die folgenden Werte: Kennzahlen für die Differenz: dn beträgt −5.78, die\n",
    "Standardabweichung σD = 6.2.\n",
    "Es wird vermutet, dass Gerät B systematisch grössere Werte misst. Bestätigen die\n",
    "Messwerte diese Vermutung oder ist eine zufällige Schwankung als Erklärung plausibel?\n",
    "\n",
    "a) Handelt es sich um verbundene (gepaarte) oder um unabhängige Stichproben?"
   ]
  },
  {
   "cell_type": "markdown",
   "metadata": {},
   "source": [
    "gepaart"
   ]
  },
  {
   "cell_type": "markdown",
   "metadata": {},
   "source": [
    "b) Führen Sie einen t-Test auf dem Niveau α = 0.05 durch. Formulieren Sie explizit: Modellannahmen, Nullhypothese, Alternative, Teststatistik, Verwerfungsbereich und Testergebnis."
   ]
  },
  {
   "cell_type": "code",
   "execution_count": 12,
   "metadata": {},
   "outputs": [
    {
     "data": {
      "text/plain": [
       "-3.8430659442138757"
      ]
     },
     "execution_count": 12,
     "metadata": {},
     "output_type": "execute_result"
    }
   ],
   "source": [
    "from scipy.stats import t\n",
    "import numpy as np\n",
    "\n",
    "t.ppf(q=0.05, loc=0, scale=6.2/np.sqrt(9), df=8)"
   ]
  },
  {
   "cell_type": "markdown",
   "metadata": {},
   "source": [
    "Aufgabe 8.4\n",
    "In der folgenden Tabelle sind die Kieferlängen von 10 männlichen und 10 weiblichen\n",
    "Goldschakalen eingetragen: Einige Kennzahlen: x¯n = 113.4, y¯n = 108.6, σˆ\n",
    "2\n",
    "x = 13.82, σˆ\n",
    "2\n",
    "y = 5.16. Es stellt sich nun die Frage, ob es einen Unterschied zwischen der Kieferlänge von Männchen und Weibchen gibt."
   ]
  },
  {
   "cell_type": "markdown",
   "metadata": {},
   "source": [
    "a) Handelt es sich um gepaarte oder ungepaarte Stichproben? Begründen Sie Ihre\n",
    "Antwort.\n",
    "\n",
    "ungepaart, da nicht eindeutig zuweisbar"
   ]
  },
  {
   "cell_type": "markdown",
   "metadata": {},
   "source": [
    "b) Formulieren Sie Nullhypothese und Alternativhypothese.\n",
    "\n",
    "H0: u1 = u2\n",
    "Ha: u1 != u2"
   ]
  },
  {
   "cell_type": "markdown",
   "metadata": {},
   "source": [
    "c) Führen Sie den t-Test nun noch mit Hilfe von Python durch. Geben Sie den\n",
    "resultierenden p-Wert sowie den daraus folgenden Testentscheid an."
   ]
  },
  {
   "cell_type": "code",
   "execution_count": 13,
   "metadata": {},
   "outputs": [
    {
     "name": "stdout",
     "output_type": "stream",
     "text": [
      "     M    W\n",
      "0  120  110\n",
      "1  107  111\n",
      "2  110  107\n",
      "3  116  108\n",
      "4  114  110\n",
      "5  111  105\n",
      "6  113  107\n",
      "7  117  106\n",
      "8  114  111\n",
      "9  112  111\n"
     ]
    },
    {
     "name": "stderr",
     "output_type": "stream",
     "text": [
      "C:\\Users\\Andreas\\Anaconda3\\lib\\site-packages\\ipykernel_launcher.py:3: FutureWarning: read_table is deprecated, use read_csv instead.\n",
      "  This is separate from the ipykernel package so we can avoid doing imports until\n"
     ]
    },
    {
     "data": {
      "text/plain": [
       "Ttest_indResult(statistic=3.4843242131699643, pvalue=0.0033599524351925016)"
      ]
     },
     "execution_count": 13,
     "metadata": {},
     "output_type": "execute_result"
    }
   ],
   "source": [
    "import pandas as pd\n",
    "import scipy.stats as st\n",
    "jackals = pd.read_table(\"jackals.txt\", sep = \" \")\n",
    "print(jackals)\n",
    "st.ttest_ind(jackals[\"M\"], jackals[\"W\"], equal_var=False)"
   ]
  },
  {
   "cell_type": "markdown",
   "metadata": {},
   "source": [
    "pvalue < 0.05 --> H0 verworfen"
   ]
  },
  {
   "cell_type": "markdown",
   "metadata": {},
   "source": [
    "d) Führen Sie mit Hilfe von Python einen Wilcoxon-Test durch. Geben Sie wiederum\n",
    "p-Wert und Testentscheid an."
   ]
  },
  {
   "cell_type": "code",
   "execution_count": 14,
   "metadata": {},
   "outputs": [
    {
     "data": {
      "text/plain": [
       "MannwhitneyuResult(statistic=87.5, pvalue=0.004845462884722891)"
      ]
     },
     "execution_count": 14,
     "metadata": {},
     "output_type": "execute_result"
    }
   ],
   "source": [
    "st.mannwhitneyu(jackals[\"M\"], jackals[\"W\"], alternative = \"two-sided\")"
   ]
  },
  {
   "cell_type": "markdown",
   "metadata": {},
   "source": [
    "pvalue < 0.05 --> H0 verworfen"
   ]
  },
  {
   "cell_type": "markdown",
   "metadata": {},
   "source": [
    "e) Falls die Resultate der beiden Tests unterschiedlich ausgefallen wären, welchem\n",
    "würden Sie eher vertrauen? Weshalb?\n",
    "\n",
    "Wilcoxon weil dieser nicht von einer Normalverteilung der Daten ausgeht"
   ]
  },
  {
   "cell_type": "markdown",
   "metadata": {},
   "source": [
    "## Aufgabe 8.5\n",
    "Im Jahr 2013 wurden im Rahmen einer internationalen Zusammenarbeit unter der\n",
    "Leitung der EAWAG in Dübendorf Konzentrationen von illegalen Substanzen im Abwasser von 42 europäischen Städten während einer Woche untersucht (Ort C. et all,\n",
    "Spatial differences and temporal changes in illicit drug use in Europe quantified by wastewater\n",
    "analysis, Addiction 2014 Aug).\n",
    "Dabei wurden an 7 aufeinanderfolgenden Tagen (6.-12. März) neben anderen Substanzen die medianen Konzentrationen von Ecstasy (MDMA) im Abwasser gemessenen. Aufgrund dieser Studie war eine Aussage einer vielgelesenen Schweizer Gratiszeitung, dass in Zürich viel mehr Drogen konsumiert werden als anderswo.\n",
    "In der nachfolgenden Tabellle sind für die Städte Zürich und Basel die an den untersuchten Tagen ausgeschiedenen Mengen MDMA aufgeführt. Die Angaben sind in\n",
    "mg pro 1000 Einwohner pro Tag."
   ]
  },
  {
   "cell_type": "markdown",
   "metadata": {},
   "source": [
    "a) Schätzen Sie aus den Daten den Mittelwert und die Standardabweichung der\n",
    "Differenzen, d.h., µbD und bσD.\n"
   ]
  },
  {
   "cell_type": "code",
   "execution_count": 15,
   "metadata": {},
   "outputs": [],
   "source": [
    "import numpy as np\n",
    "from pandas import Series\n",
    "mdma_zuerich = Series([16.3, 12.7, 14.0, 53.3, 117, 62.6, 27.6])\n",
    "mdma_basel = Series([10.4, 8.91, 11.7, 29.9, 46.3, 25.0, 29.4])"
   ]
  },
  {
   "cell_type": "code",
   "execution_count": 16,
   "metadata": {},
   "outputs": [
    {
     "name": "stdout",
     "output_type": "stream",
     "text": [
      "20.27\n",
      "26.272304175056032\n"
     ]
    }
   ],
   "source": [
    "d = mdma_zuerich - mdma_basel\n",
    "print(d.mean())\n",
    "print(d.std())"
   ]
  },
  {
   "cell_type": "markdown",
   "metadata": {},
   "source": [
    "b) Handelt es sich um gepaarte oder ungepaarte Stichproben? Begründen Sie Ihre\n",
    "Antwort.\n",
    "\n",
    "ungepaart"
   ]
  },
  {
   "cell_type": "markdown",
   "metadata": {},
   "source": [
    "c) Formulieren Sie die Nullhypothese und die Alternativhypothese, wenn Sie die\n",
    "Aussage der besagten Gratiszeitung überprüfen möchten.\n",
    "\n",
    "H0 uzürich - ubasel = 0\n",
    "Ha uzürich - ubasel > 0"
   ]
  },
  {
   "cell_type": "markdown",
   "metadata": {},
   "source": [
    "d) Führen Sie einen statistischen Test mit Hilfe von Python auf dem Signifikanzniveau 5 % durch, unter der Annahme, dass die Daten normalverteilt sind."
   ]
  },
  {
   "cell_type": "code",
   "execution_count": 17,
   "metadata": {},
   "outputs": [
    {
     "data": {
      "text/plain": [
       "Ttest_indResult(statistic=1.3273296255450922, pvalue=0.2232566584677775)"
      ]
     },
     "execution_count": 17,
     "metadata": {},
     "output_type": "execute_result"
    }
   ],
   "source": [
    "import numpy as np\n",
    "from pandas import Series\n",
    "import scipy.stats as st\n",
    "mdma_zuerich = Series([16.3, 12.7, 14.0, 53.3, 117, 62.6, 27.6])\n",
    "mdma_basel = Series([10.4, 8.91, 11.7, 29.9, 46.3, 25.0, 29.4])\n",
    "\n",
    "st.ttest_ind(mdma_zuerich, mdma_basel, equal_var=False)"
   ]
  },
  {
   "cell_type": "markdown",
   "metadata": {},
   "source": [
    "e) Führen Sie nun einen statistischen Test mit Hilfe von Python auf dem Signifikanzniveau 5 % durch, unter der Annahme, dass die Daten nicht normalverteilt sind.\n"
   ]
  },
  {
   "cell_type": "code",
   "execution_count": 18,
   "metadata": {},
   "outputs": [
    {
     "data": {
      "text/plain": [
       "MannwhitneyuResult(statistic=34.0, pvalue=0.12507650397969117)"
      ]
     },
     "execution_count": 18,
     "metadata": {},
     "output_type": "execute_result"
    }
   ],
   "source": [
    "st.mannwhitneyu(mdma_zuerich, mdma_basel, alternative='greater')\n"
   ]
  },
  {
   "cell_type": "code",
   "execution_count": null,
   "metadata": {},
   "outputs": [],
   "source": []
  }
 ],
 "metadata": {
  "kernelspec": {
   "display_name": "Python 3",
   "language": "python",
   "name": "python3"
  },
  "language_info": {
   "codemirror_mode": {
    "name": "ipython",
    "version": 3
   },
   "file_extension": ".py",
   "mimetype": "text/x-python",
   "name": "python",
   "nbconvert_exporter": "python",
   "pygments_lexer": "ipython3",
   "version": "3.7.3"
  }
 },
 "nbformat": 4,
 "nbformat_minor": 2
}
