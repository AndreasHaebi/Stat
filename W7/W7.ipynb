{
 "cells": [
  {
   "cell_type": "markdown",
   "metadata": {},
   "source": [
    "## Aufgabe 7.1\n",
    "Old Faithful ist ein Geysir im Yellowstone National Park in Wyoming:\n",
    "https://en.wikipedia.org/wiki/Old_Faithful\n",
    "Im Datensatz oldfaithful.txt sind Längen von 272 aufeinanderfolgenden Ausbrüchen aufgeführt. Hier ist ein Histogramm der Daten.\n",
    "\n",
    "a) Schätzen Sie den Mittelwert der Eruptionsdauern ab und geben Sie ein 95 % Vertrauensintervall mit dem vereinfachten Bootstrap-Verfahren im Skript an. Verwenden Sie dazu 1000 Bootstraps.\n",
    "Setzen Sie für ∗ den Pfad, wo sich Ihr o"
   ]
  },
  {
   "cell_type": "code",
   "execution_count": 7,
   "metadata": {},
   "outputs": [
    {
     "name": "stdout",
     "output_type": "stream",
     "text": [
      "209.2683823529412\n"
     ]
    }
   ],
   "source": [
    "import numpy as np\n",
    "x = np.loadtxt(\"oldfaithful.txt\")\n",
    "print(x.mean())"
   ]
  },
  {
   "cell_type": "code",
   "execution_count": 5,
   "metadata": {},
   "outputs": [
    {
     "name": "stdout",
     "output_type": "stream",
     "text": [
      "Vertrauensintervall:  [200.71295956 217.43520221]\n"
     ]
    }
   ],
   "source": [
    "n = np.size(x)\n",
    "nboot = 1000\n",
    "tmpdata = np.random.choice(x, n*nboot, replace=True)\n",
    "bootstrapsample = np.reshape(tmpdata, (n, nboot))\n",
    "xbarstar = np.mean(bootstrapsample, axis=0)\n",
    "d = np.percentile(xbarstar, q=[2.5, 97.5])\n",
    "print(\"Vertrauensintervall: \",d)"
   ]
  },
  {
   "cell_type": "markdown",
   "metadata": {},
   "source": [
    "b) Machen Sie dasselbe für den Median"
   ]
  },
  {
   "cell_type": "code",
   "execution_count": 11,
   "metadata": {},
   "outputs": [
    {
     "name": "stdout",
     "output_type": "stream",
     "text": [
      "240.0\n",
      "Vertrauensintervall:  [230.  246.5]\n"
     ]
    }
   ],
   "source": [
    "print(np.median(x))\n",
    "\n",
    "n = np.size(x)\n",
    "nboot = 1000\n",
    "tmpdata = np.random.choice(x, n*nboot, replace=True)\n",
    "bootstrapsample = np.reshape(tmpdata, (n, nboot))\n",
    "xbarstar = np.median(bootstrapsample, axis=0)\n",
    "d = np.percentile(xbarstar, q=[2.5, 97.5])\n",
    "print(\"Vertrauensintervall: \",d)"
   ]
  },
  {
   "cell_type": "markdown",
   "metadata": {},
   "source": [
    "c) Schätzen Sie die Wahrscheinlichkeit P(|x − µ| > 5)\n",
    "ab.\n",
    "Ersetzen Sie zur Abschätzung µ durch den Mittelwert der Daten und x durch\n",
    "die Bootstraps"
   ]
  },
  {
   "cell_type": "code",
   "execution_count": 13,
   "metadata": {},
   "outputs": [
    {
     "name": "stdout",
     "output_type": "stream",
     "text": [
      "0.231\n"
     ]
    }
   ],
   "source": [
    "n = x.size\n",
    "nboot = 1000\n",
    "tmpdata = np.random.choice(x, n*nboot, replace=True)\n",
    "\n",
    "bootstrapsample = np.reshape(tmpdata, (n, nboot))\n",
    "xbarstar = np.mean(bootstrapsample, axis=0) - np.mean(x)\n",
    "l = np.sum(xbarstar < -5)\n",
    "u = np.sum(xbarstar > 5)\n",
    "ratio = (l+u)/nboot\n",
    "\n",
    "print(ratio)"
   ]
  },
  {
   "cell_type": "markdown",
   "metadata": {},
   "source": [
    "## Aufgabe 7.3\n",
    "Aufgrund langjähriger Untersuchungen ist bekannt, dass der Bleigehalt X von gewissen Bodenproben annähernd normal-verteilt ist\n",
    "X ∼ N (µ, σ\n",
    "2\n",
    ")\n"
   ]
  },
  {
   "cell_type": "markdown",
   "metadata": {},
   "source": [
    "a) Es wurden in 10 Bodenproben der Bleigehalt X gemessen. Dabei wurde ein\n",
    "Mittelwert von x10 = 31 ppb erhalten. Die Standardabweichung sei bekannt\n",
    "und beträgt 6 ppb.\n",
    "Geben Sie das zweiseitige 99 % Vertrauensintervall für den Mittelwert an"
   ]
  },
  {
   "cell_type": "code",
   "execution_count": 24,
   "metadata": {},
   "outputs": [
    {
     "data": {
      "text/plain": [
       "(26.112707522188142, 35.887292477811854)"
      ]
     },
     "execution_count": 24,
     "metadata": {},
     "output_type": "execute_result"
    }
   ],
   "source": [
    "from scipy.stats import norm, t\n",
    "import numpy as np\n",
    "n = 10\n",
    "ew = 31\n",
    "sa = 6\n",
    "a = 0.99\n",
    "\n",
    "norm.interval(alpha=a, loc=ew, scale=sa/np.sqrt(n))"
   ]
  },
  {
   "cell_type": "markdown",
   "metadata": {},
   "source": [
    "b) Wie viele Beobachtungen sind nötig, um die Breite des in Teilaufgabe a) bestimmten zweiseitigen Vertrauensintervalls auf die Hälfte zu reduzieren?\n",
    "Wie viele (unabhängige) Bestimmungen des Bleigehalts müssen geplant werden, falls der Bleigehalt mit einer Stichprobe „1 ppb genau” bestimmt werden\n",
    "soll, d. h., wenn die Breite des 99 % des Konfidenzintervalls nicht grösser als\n",
    "1 ppb sein soll?"
   ]
  },
  {
   "cell_type": "code",
   "execution_count": 25,
   "metadata": {},
   "outputs": [
    {
     "name": "stdout",
     "output_type": "stream",
     "text": [
      "(28.556353761094073, 33.44364623890593)\n",
      "4.8872924778118545\n"
     ]
    }
   ],
   "source": [
    "# halbieren des intervalls\n",
    "i = norm.interval(alpha=a, loc=ew, scale=sa/np.sqrt(n*4))\n",
    "print(i)\n",
    "print(i[1] - i[0])"
   ]
  },
  {
   "cell_type": "code",
   "execution_count": 30,
   "metadata": {},
   "outputs": [
    {
     "name": "stdout",
     "output_type": "stream",
     "text": [
      "956\n"
     ]
    }
   ],
   "source": [
    "n = 10\n",
    "i = 20\n",
    "while i > 1:\n",
    "    n=n+1\n",
    "    i = norm.interval(alpha=a, loc=ew, scale=sa/np.sqrt(n))\n",
    "    i = i[1] - i[0]\n",
    "print(n)"
   ]
  },
  {
   "cell_type": "markdown",
   "metadata": {},
   "source": [
    "c) Normalerweise ist die Standardabweichung σ unbekannt. Um welchen Faktor\n",
    "verändert sich die Breite des zweiseitigen Vertrauensintervalls in Teilaufgabe a),\n",
    "wenn man die Standardabweichung aus den Daten geschätzt hat, also bσ = 6 ?\n",
    "\n"
   ]
  },
  {
   "cell_type": "code",
   "execution_count": 32,
   "metadata": {},
   "outputs": [
    {
     "name": "stdout",
     "output_type": "stream",
     "text": [
      "(26.112707522188142, 35.887292477811854)\n",
      "(24.833870595963425, 37.166129404036575)\n"
     ]
    }
   ],
   "source": [
    "n = 10\n",
    "i = norm.interval(alpha=a, loc=ew, scale=sa/np.sqrt(n))\n",
    "print(i)\n",
    "it = t.interval(alpha=a, df=n-1, loc=ew, scale=sa/np.sqrt(n))\n",
    "print(it)"
   ]
  },
  {
   "cell_type": "code",
   "execution_count": 34,
   "metadata": {},
   "outputs": [
    {
     "name": "stdout",
     "output_type": "stream",
     "text": [
      "1.2616657243311291\n"
     ]
    }
   ],
   "source": [
    "f = (it[1]-it[0]) / (i[1]-i[0])\n",
    "print(f)"
   ]
  },
  {
   "cell_type": "markdown",
   "metadata": {},
   "source": [
    "Aufgabe 7.4\n",
    "Im National Bureau of Standards (USA) wurden regelmässig Wägungen des 10-Gramm\n",
    "- Standardgewichtstücks durchgeführt. Bei 9 Wägungen erhielt man als durchschnittliche Differenz −403 Mikrogramm vom 10 Gramm-Sollgewicht und eine Standardabweichung von 3.127 Mikrogramm für eine einzelne Wägung.\n",
    "\n",
    "a) Geben Sie das exakte, zweiseitige 95 %-Vertrauensintervall für die wahre Differenz an, unter der Annahme, dass die Messfehler normal-verteilt sind.\n"
   ]
  },
  {
   "cell_type": "code",
   "execution_count": 36,
   "metadata": {},
   "outputs": [
    {
     "data": {
      "text/plain": [
       "(-405.04293579321893, -400.95706420678107)"
      ]
     },
     "execution_count": 36,
     "metadata": {},
     "output_type": "execute_result"
    }
   ],
   "source": [
    "n = 9\n",
    "a = 0.95\n",
    "ew = -403\n",
    "sa = 3.127\n",
    "\n",
    "norm.interval(alpha=a, loc=ew, scale=sa/np.sqrt(n))"
   ]
  },
  {
   "cell_type": "markdown",
   "metadata": {},
   "source": [
    "b) Könnte die wahre Differenz −400.0 µg betragen? Entscheiden Sie aufgrund des\n",
    "Resultats in Aufgabe a). (Kurze Begründung)"
   ]
  },
  {
   "cell_type": "markdown",
   "metadata": {},
   "source": [
    "Aufgrund des Vertrauensintervalls würde die H0 verworfen werden"
   ]
  },
  {
   "cell_type": "markdown",
   "metadata": {},
   "source": [
    "## Aufgabe 7.5\n",
    "Eine Brücke soll aufgrund des höheren Verkehrsaufkommens renoviert werden. Im\n",
    "Bau wurden damals Schrauben mit einer mittleren Festigkeit von 500 N/mm2 benutzt. Da dies für nicht mehr sicher genug gehalten wird, sollen diese nun durch\n",
    "Schrauben mit einer mittleren Festigkeit von mehr als 500 N/mm2\n",
    "ersetzt werden.\n",
    "Um diesen Anforderungen gerecht zu werden, hat der alte Schraubenlieferant ein\n",
    "neues Verfahren entwickelt. Zur Baustelle werden allerdings unbeschriftete Schrauben geliefert, aus denen nicht sofort hervorgeht, ob es sich um die alten 500er oder\n",
    "um die neuen verbesserten Schrauben handelt.\n",
    "Vor dem Verbau will der leitende Ingenieur zuerst sicherstellen, dass es sich um die\n",
    "besseren Schrauben handelt. Um dies herauszufinden, werden einige der Schrauben\n",
    "vermessen und ein statistischer Test durchgeführt. Je nach Ergebnis sollen die Schrauben verbaut oder zurückgeschickt werden.\n",
    "\n",
    "\n",
    "Für den empirischen Mittelwert und empirische Varianz ergeben sich bei obiger Stichprobe x5 = 512 und s^2 x = 106.5.\n",
    "Wir modellieren die Daten mit einer Normalverteilung, d. h. Xi\n",
    "i.i.d. ∼ N (µ, σ\n",
    "2\n",
    ")."
   ]
  },
  {
   "cell_type": "markdown",
   "metadata": {},
   "source": [
    "a) Stellen Sie die geeigneten Null- und Alternativhypothesen auf und begründen\n",
    "Sie Ihre Wahl."
   ]
  },
  {
   "cell_type": "markdown",
   "metadata": {},
   "source": [
    "H0: u = 500\n",
    "Ha: u > 500"
   ]
  },
  {
   "cell_type": "markdown",
   "metadata": {},
   "source": [
    "b) Sie führen nun einen einseitigen t-Test zum Niveau α = 0.05 durch (unabhängig\n",
    "von Ihrer obigen Antwort). Stellen Sie die Teststatistik T auf und berechnen\n",
    "Sie deren Wert. Geben Sie die Verteilung der Teststatistik T unter H0 und den\n",
    "Verwerfungsbereich des Tests an. Was ist der Testentscheid?\n"
   ]
  },
  {
   "cell_type": "code",
   "execution_count": 38,
   "metadata": {},
   "outputs": [
    {
     "name": "stdout",
     "output_type": "stream",
     "text": [
      "512.0\n",
      "106.5\n"
     ]
    }
   ],
   "source": [
    "import numpy as np\n",
    "from scipy.stats import norm, t\n",
    "from pandas import Series\n",
    "x = Series([520, 512, 499, 524, 505])\n",
    "print(x.mean())\n",
    "print(x.var())"
   ]
  },
  {
   "cell_type": "code",
   "execution_count": 39,
   "metadata": {},
   "outputs": [
    {
     "data": {
      "text/plain": [
       "509.8388828578604"
      ]
     },
     "execution_count": 39,
     "metadata": {},
     "output_type": "execute_result"
    }
   ],
   "source": [
    "a=0.95\n",
    "n=x.size\n",
    "ew=500\n",
    "sa=x.std()\n",
    "t.ppf(q=a, df=n-1, loc=ew, scale=sa/np.sqrt(n))"
   ]
  },
  {
   "cell_type": "markdown",
   "metadata": {},
   "source": [
    "Verwerfungsbereich = [509.8, unendlich]"
   ]
  },
  {
   "cell_type": "markdown",
   "metadata": {},
   "source": [
    "0 Hypothese wird verworfen --> schrauben sind stärker\n"
   ]
  },
  {
   "cell_type": "markdown",
   "metadata": {},
   "source": [
    "c) Berechnen Sie ein (zweiseitiges) 95 %-Vertrauensintervall für µ."
   ]
  },
  {
   "cell_type": "code",
   "execution_count": 42,
   "metadata": {},
   "outputs": [
    {
     "data": {
      "text/plain": [
       "(499.1861719188852, 524.8138280811148)"
      ]
     },
     "execution_count": 42,
     "metadata": {},
     "output_type": "execute_result"
    }
   ],
   "source": [
    "x = Series([520, 512, 499, 524, 505])\n",
    "n = x.size\n",
    "t.interval(alpha=a, df=n-1, loc=x.mean(), scale=x.std()/np.sqrt(n))"
   ]
  },
  {
   "cell_type": "markdown",
   "metadata": {},
   "source": [
    "Wie würde das entsprechende Vertrauensintervall von c) aussehen, wenn wir\n",
    "die Streuung als bekannt voraussetzen würden (mit dem gleichen Wert wie der\n",
    "beobachtete)?"
   ]
  },
  {
   "cell_type": "code",
   "execution_count": 43,
   "metadata": {},
   "outputs": [
    {
     "data": {
      "text/plain": [
       "(502.95438930304954, 521.0456106969505)"
      ]
     },
     "execution_count": 43,
     "metadata": {},
     "output_type": "execute_result"
    }
   ],
   "source": [
    "norm.interval(alpha=a, loc=x.mean(), scale=x.std()/np.sqrt(n))"
   ]
  },
  {
   "cell_type": "code",
   "execution_count": null,
   "metadata": {},
   "outputs": [],
   "source": []
  }
 ],
 "metadata": {
  "kernelspec": {
   "display_name": "Python 3",
   "language": "python",
   "name": "python3"
  },
  "language_info": {
   "codemirror_mode": {
    "name": "ipython",
    "version": 3
   },
   "file_extension": ".py",
   "mimetype": "text/x-python",
   "name": "python",
   "nbconvert_exporter": "python",
   "pygments_lexer": "ipython3",
   "version": "3.7.3"
  }
 },
 "nbformat": 4,
 "nbformat_minor": 2
}
