{
 "cells": [
  {
   "cell_type": "markdown",
   "metadata": {},
   "source": [
    "# W1\n",
    "## Aufgabe 1.1\n",
    "a) Einlesen der child.csv Daten"
   ]
  },
  {
   "cell_type": "code",
   "execution_count": 6,
   "metadata": {},
   "outputs": [
    {
     "data": {
      "text/html": [
       "<div>\n",
       "<style scoped>\n",
       "    .dataframe tbody tr th:only-of-type {\n",
       "        vertical-align: middle;\n",
       "    }\n",
       "\n",
       "    .dataframe tbody tr th {\n",
       "        vertical-align: top;\n",
       "    }\n",
       "\n",
       "    .dataframe thead th {\n",
       "        text-align: right;\n",
       "    }\n",
       "</style>\n",
       "<table border=\"1\" class=\"dataframe\">\n",
       "  <thead>\n",
       "    <tr style=\"text-align: right;\">\n",
       "      <th></th>\n",
       "      <th>Average.disposable.income</th>\n",
       "      <th>Children.in.poor.homes</th>\n",
       "      <th>Educational.Deprivation</th>\n",
       "      <th>Overcrowding</th>\n",
       "      <th>Poor.environmental.conditions</th>\n",
       "      <th>Average.mean.literacy.score</th>\n",
       "      <th>Literacy.inequality</th>\n",
       "      <th>Youth.NEET.rate</th>\n",
       "      <th>Low.birth.weight</th>\n",
       "      <th>Infant.mortality</th>\n",
       "      <th>...</th>\n",
       "      <th>Vaccination.rates..pertussis.</th>\n",
       "      <th>Vaccination.rates.measles.</th>\n",
       "      <th>Physical.activity</th>\n",
       "      <th>Mortality.rates</th>\n",
       "      <th>Suicide.rates</th>\n",
       "      <th>Smoking</th>\n",
       "      <th>Drunkenness</th>\n",
       "      <th>Teenage.births</th>\n",
       "      <th>Bullying</th>\n",
       "      <th>Liking.school</th>\n",
       "    </tr>\n",
       "  </thead>\n",
       "  <tbody>\n",
       "    <tr>\n",
       "      <th>Australia</th>\n",
       "      <td>20.813221</td>\n",
       "      <td>11.791352</td>\n",
       "      <td>2.2</td>\n",
       "      <td>19.700000</td>\n",
       "      <td>10.500000</td>\n",
       "      <td>520.00</td>\n",
       "      <td>1.610349</td>\n",
       "      <td>7.4</td>\n",
       "      <td>6.4</td>\n",
       "      <td>5.0</td>\n",
       "      <td>...</td>\n",
       "      <td>92.2</td>\n",
       "      <td>94.0</td>\n",
       "      <td>NaN</td>\n",
       "      <td>23.66</td>\n",
       "      <td>8.512646</td>\n",
       "      <td>NaN</td>\n",
       "      <td>NaN</td>\n",
       "      <td>14.3</td>\n",
       "      <td>NaN</td>\n",
       "      <td>NaN</td>\n",
       "    </tr>\n",
       "    <tr>\n",
       "      <th>Austria</th>\n",
       "      <td>22.162446</td>\n",
       "      <td>6.166094</td>\n",
       "      <td>0.6</td>\n",
       "      <td>34.014601</td>\n",
       "      <td>20.154186</td>\n",
       "      <td>502.00</td>\n",
       "      <td>1.716942</td>\n",
       "      <td>6.9</td>\n",
       "      <td>6.8</td>\n",
       "      <td>4.2</td>\n",
       "      <td>...</td>\n",
       "      <td>83.0</td>\n",
       "      <td>74.0</td>\n",
       "      <td>19.6</td>\n",
       "      <td>24.57</td>\n",
       "      <td>9.482761</td>\n",
       "      <td>27.1</td>\n",
       "      <td>18.6</td>\n",
       "      <td>12.3</td>\n",
       "      <td>15.6</td>\n",
       "      <td>38.1</td>\n",
       "    </tr>\n",
       "    <tr>\n",
       "      <th>Belgium</th>\n",
       "      <td>21.401153</td>\n",
       "      <td>9.974720</td>\n",
       "      <td>1.0</td>\n",
       "      <td>12.614505</td>\n",
       "      <td>29.754526</td>\n",
       "      <td>510.33</td>\n",
       "      <td>1.740258</td>\n",
       "      <td>6.2</td>\n",
       "      <td>7.8</td>\n",
       "      <td>3.7</td>\n",
       "      <td>...</td>\n",
       "      <td>97.0</td>\n",
       "      <td>88.0</td>\n",
       "      <td>19.1</td>\n",
       "      <td>28.97</td>\n",
       "      <td>8.977713</td>\n",
       "      <td>16.7</td>\n",
       "      <td>13.9</td>\n",
       "      <td>7.8</td>\n",
       "      <td>12.2</td>\n",
       "      <td>21.6</td>\n",
       "    </tr>\n",
       "    <tr>\n",
       "      <th>Canada</th>\n",
       "      <td>25.606245</td>\n",
       "      <td>15.057585</td>\n",
       "      <td>2.1</td>\n",
       "      <td>NaN</td>\n",
       "      <td>NaN</td>\n",
       "      <td>529.33</td>\n",
       "      <td>1.573912</td>\n",
       "      <td>6.1</td>\n",
       "      <td>5.9</td>\n",
       "      <td>5.3</td>\n",
       "      <td>...</td>\n",
       "      <td>78.0</td>\n",
       "      <td>94.0</td>\n",
       "      <td>23.6</td>\n",
       "      <td>23.43</td>\n",
       "      <td>10.047535</td>\n",
       "      <td>8.6</td>\n",
       "      <td>18.8</td>\n",
       "      <td>13.2</td>\n",
       "      <td>14.0</td>\n",
       "      <td>29.5</td>\n",
       "    </tr>\n",
       "    <tr>\n",
       "      <th>Czech Republic</th>\n",
       "      <td>10.849270</td>\n",
       "      <td>10.270000</td>\n",
       "      <td>1.2</td>\n",
       "      <td>58.899347</td>\n",
       "      <td>29.748594</td>\n",
       "      <td>502.00</td>\n",
       "      <td>1.743012</td>\n",
       "      <td>5.3</td>\n",
       "      <td>6.7</td>\n",
       "      <td>3.4</td>\n",
       "      <td>...</td>\n",
       "      <td>98.7</td>\n",
       "      <td>96.6</td>\n",
       "      <td>22.0</td>\n",
       "      <td>24.92</td>\n",
       "      <td>6.212492</td>\n",
       "      <td>21.5</td>\n",
       "      <td>16.8</td>\n",
       "      <td>11.4</td>\n",
       "      <td>5.5</td>\n",
       "      <td>11.7</td>\n",
       "    </tr>\n",
       "  </tbody>\n",
       "</table>\n",
       "<p>5 rows × 21 columns</p>\n",
       "</div>"
      ],
      "text/plain": [
       "                Average.disposable.income  Children.in.poor.homes  \\\n",
       "Australia                       20.813221               11.791352   \n",
       "Austria                         22.162446                6.166094   \n",
       "Belgium                         21.401153                9.974720   \n",
       "Canada                          25.606245               15.057585   \n",
       "Czech Republic                  10.849270               10.270000   \n",
       "\n",
       "                Educational.Deprivation  Overcrowding  \\\n",
       "Australia                           2.2     19.700000   \n",
       "Austria                             0.6     34.014601   \n",
       "Belgium                             1.0     12.614505   \n",
       "Canada                              2.1           NaN   \n",
       "Czech Republic                      1.2     58.899347   \n",
       "\n",
       "                Poor.environmental.conditions  Average.mean.literacy.score  \\\n",
       "Australia                           10.500000                       520.00   \n",
       "Austria                             20.154186                       502.00   \n",
       "Belgium                             29.754526                       510.33   \n",
       "Canada                                    NaN                       529.33   \n",
       "Czech Republic                      29.748594                       502.00   \n",
       "\n",
       "                Literacy.inequality  Youth.NEET.rate  Low.birth.weight  \\\n",
       "Australia                  1.610349              7.4               6.4   \n",
       "Austria                    1.716942              6.9               6.8   \n",
       "Belgium                    1.740258              6.2               7.8   \n",
       "Canada                     1.573912              6.1               5.9   \n",
       "Czech Republic             1.743012              5.3               6.7   \n",
       "\n",
       "                Infant.mortality  ...  Vaccination.rates..pertussis.  \\\n",
       "Australia                    5.0  ...                           92.2   \n",
       "Austria                      4.2  ...                           83.0   \n",
       "Belgium                      3.7  ...                           97.0   \n",
       "Canada                       5.3  ...                           78.0   \n",
       "Czech Republic               3.4  ...                           98.7   \n",
       "\n",
       "                Vaccination.rates.measles.  Physical.activity  \\\n",
       "Australia                             94.0                NaN   \n",
       "Austria                               74.0               19.6   \n",
       "Belgium                               88.0               19.1   \n",
       "Canada                                94.0               23.6   \n",
       "Czech Republic                        96.6               22.0   \n",
       "\n",
       "                Mortality.rates  Suicide.rates  Smoking  Drunkenness  \\\n",
       "Australia                 23.66       8.512646      NaN          NaN   \n",
       "Austria                   24.57       9.482761     27.1         18.6   \n",
       "Belgium                   28.97       8.977713     16.7         13.9   \n",
       "Canada                    23.43      10.047535      8.6         18.8   \n",
       "Czech Republic            24.92       6.212492     21.5         16.8   \n",
       "\n",
       "                Teenage.births  Bullying  Liking.school  \n",
       "Australia                 14.3       NaN            NaN  \n",
       "Austria                   12.3      15.6           38.1  \n",
       "Belgium                    7.8      12.2           21.6  \n",
       "Canada                    13.2      14.0           29.5  \n",
       "Czech Republic            11.4       5.5           11.7  \n",
       "\n",
       "[5 rows x 21 columns]"
      ]
     },
     "execution_count": 6,
     "metadata": {},
     "output_type": "execute_result"
    }
   ],
   "source": [
    "from pandas import Series,DataFrame\n",
    "import pandas as pd\n",
    "data = pd.read_csv(\"child.csv\", sep=\",\", index_col=0)\n",
    "data.head()"
   ]
  },
  {
   "cell_type": "markdown",
   "metadata": {},
   "source": [
    "b) shape überprüfen"
   ]
  },
  {
   "cell_type": "code",
   "execution_count": 7,
   "metadata": {},
   "outputs": [
    {
     "data": {
      "text/plain": [
       "(30, 21)"
      ]
     },
     "execution_count": 7,
     "metadata": {},
     "output_type": "execute_result"
    }
   ],
   "source": [
    "data.shape"
   ]
  },
  {
   "cell_type": "markdown",
   "metadata": {},
   "source": [
    "c) Mittelwert und Median berechnen (describe="
   ]
  },
  {
   "cell_type": "code",
   "execution_count": 16,
   "metadata": {},
   "outputs": [
    {
     "data": {
      "text/html": [
       "<div>\n",
       "<style scoped>\n",
       "    .dataframe tbody tr th:only-of-type {\n",
       "        vertical-align: middle;\n",
       "    }\n",
       "\n",
       "    .dataframe tbody tr th {\n",
       "        vertical-align: top;\n",
       "    }\n",
       "\n",
       "    .dataframe thead th {\n",
       "        text-align: right;\n",
       "    }\n",
       "</style>\n",
       "<table border=\"1\" class=\"dataframe\">\n",
       "  <thead>\n",
       "    <tr style=\"text-align: right;\">\n",
       "      <th></th>\n",
       "      <th>Average.disposable.income</th>\n",
       "      <th>Children.in.poor.homes</th>\n",
       "      <th>Educational.Deprivation</th>\n",
       "      <th>Overcrowding</th>\n",
       "      <th>Poor.environmental.conditions</th>\n",
       "      <th>Average.mean.literacy.score</th>\n",
       "      <th>Literacy.inequality</th>\n",
       "      <th>Youth.NEET.rate</th>\n",
       "      <th>Low.birth.weight</th>\n",
       "      <th>Infant.mortality</th>\n",
       "      <th>...</th>\n",
       "      <th>Vaccination.rates..pertussis.</th>\n",
       "      <th>Vaccination.rates.measles.</th>\n",
       "      <th>Physical.activity</th>\n",
       "      <th>Mortality.rates</th>\n",
       "      <th>Suicide.rates</th>\n",
       "      <th>Smoking</th>\n",
       "      <th>Drunkenness</th>\n",
       "      <th>Teenage.births</th>\n",
       "      <th>Bullying</th>\n",
       "      <th>Liking.school</th>\n",
       "    </tr>\n",
       "  </thead>\n",
       "  <tbody>\n",
       "    <tr>\n",
       "      <th>count</th>\n",
       "      <td>30.000000</td>\n",
       "      <td>30.000000</td>\n",
       "      <td>30.000000</td>\n",
       "      <td>26.000000</td>\n",
       "      <td>24.000000</td>\n",
       "      <td>30.000000</td>\n",
       "      <td>30.000000</td>\n",
       "      <td>27.000000</td>\n",
       "      <td>30.000000</td>\n",
       "      <td>30.000000</td>\n",
       "      <td>...</td>\n",
       "      <td>29.000000</td>\n",
       "      <td>29.000000</td>\n",
       "      <td>26.000000</td>\n",
       "      <td>29.000000</td>\n",
       "      <td>29.000000</td>\n",
       "      <td>24.000000</td>\n",
       "      <td>24.000000</td>\n",
       "      <td>30.000000</td>\n",
       "      <td>24.000000</td>\n",
       "      <td>25.00000</td>\n",
       "    </tr>\n",
       "    <tr>\n",
       "      <th>mean</th>\n",
       "      <td>18.847713</td>\n",
       "      <td>12.372193</td>\n",
       "      <td>2.673333</td>\n",
       "      <td>31.950163</td>\n",
       "      <td>25.217498</td>\n",
       "      <td>496.317000</td>\n",
       "      <td>1.665085</td>\n",
       "      <td>7.377778</td>\n",
       "      <td>6.643333</td>\n",
       "      <td>5.446667</td>\n",
       "      <td>...</td>\n",
       "      <td>93.775862</td>\n",
       "      <td>91.517241</td>\n",
       "      <td>20.134615</td>\n",
       "      <td>24.598966</td>\n",
       "      <td>6.856272</td>\n",
       "      <td>16.512500</td>\n",
       "      <td>15.225000</td>\n",
       "      <td>15.500000</td>\n",
       "      <td>10.979167</td>\n",
       "      <td>27.17200</td>\n",
       "    </tr>\n",
       "    <tr>\n",
       "      <th>std</th>\n",
       "      <td>7.597219</td>\n",
       "      <td>5.592696</td>\n",
       "      <td>3.315370</td>\n",
       "      <td>21.132363</td>\n",
       "      <td>7.483096</td>\n",
       "      <td>29.381643</td>\n",
       "      <td>0.067391</td>\n",
       "      <td>6.489656</td>\n",
       "      <td>1.728001</td>\n",
       "      <td>4.506756</td>\n",
       "      <td>...</td>\n",
       "      <td>5.317334</td>\n",
       "      <td>5.909138</td>\n",
       "      <td>6.157983</td>\n",
       "      <td>6.745815</td>\n",
       "      <td>3.204545</td>\n",
       "      <td>4.766852</td>\n",
       "      <td>4.301794</td>\n",
       "      <td>13.967326</td>\n",
       "      <td>5.146462</td>\n",
       "      <td>10.39926</td>\n",
       "    </tr>\n",
       "    <tr>\n",
       "      <th>min</th>\n",
       "      <td>3.839462</td>\n",
       "      <td>2.740000</td>\n",
       "      <td>0.400000</td>\n",
       "      <td>10.326503</td>\n",
       "      <td>10.500000</td>\n",
       "      <td>408.670000</td>\n",
       "      <td>1.475432</td>\n",
       "      <td>1.700000</td>\n",
       "      <td>3.900000</td>\n",
       "      <td>2.300000</td>\n",
       "      <td>...</td>\n",
       "      <td>78.000000</td>\n",
       "      <td>74.000000</td>\n",
       "      <td>13.100000</td>\n",
       "      <td>14.840000</td>\n",
       "      <td>1.263026</td>\n",
       "      <td>8.100000</td>\n",
       "      <td>10.000000</td>\n",
       "      <td>3.700000</td>\n",
       "      <td>4.200000</td>\n",
       "      <td>11.70000</td>\n",
       "    </tr>\n",
       "    <tr>\n",
       "      <th>25%</th>\n",
       "      <td>16.617877</td>\n",
       "      <td>8.901475</td>\n",
       "      <td>1.000000</td>\n",
       "      <td>17.058130</td>\n",
       "      <td>20.153506</td>\n",
       "      <td>482.750000</td>\n",
       "      <td>1.623048</td>\n",
       "      <td>4.550000</td>\n",
       "      <td>5.150000</td>\n",
       "      <td>3.525000</td>\n",
       "      <td>...</td>\n",
       "      <td>91.000000</td>\n",
       "      <td>88.000000</td>\n",
       "      <td>15.800000</td>\n",
       "      <td>21.170000</td>\n",
       "      <td>5.036520</td>\n",
       "      <td>14.625000</td>\n",
       "      <td>11.350000</td>\n",
       "      <td>7.050000</td>\n",
       "      <td>7.975000</td>\n",
       "      <td>21.40000</td>\n",
       "    </tr>\n",
       "    <tr>\n",
       "      <th>50%</th>\n",
       "      <td>21.107187</td>\n",
       "      <td>11.659053</td>\n",
       "      <td>1.500000</td>\n",
       "      <td>21.574977</td>\n",
       "      <td>25.487116</td>\n",
       "      <td>501.335000</td>\n",
       "      <td>1.682739</td>\n",
       "      <td>6.200000</td>\n",
       "      <td>6.750000</td>\n",
       "      <td>4.200000</td>\n",
       "      <td>...</td>\n",
       "      <td>95.800000</td>\n",
       "      <td>94.000000</td>\n",
       "      <td>19.300000</td>\n",
       "      <td>23.150000</td>\n",
       "      <td>6.784772</td>\n",
       "      <td>16.600000</td>\n",
       "      <td>14.550000</td>\n",
       "      <td>10.600000</td>\n",
       "      <td>9.650000</td>\n",
       "      <td>25.60000</td>\n",
       "    </tr>\n",
       "    <tr>\n",
       "      <th>75%</th>\n",
       "      <td>22.642722</td>\n",
       "      <td>16.091953</td>\n",
       "      <td>2.200000</td>\n",
       "      <td>44.392351</td>\n",
       "      <td>30.236732</td>\n",
       "      <td>512.835000</td>\n",
       "      <td>1.719012</td>\n",
       "      <td>8.400000</td>\n",
       "      <td>7.500000</td>\n",
       "      <td>5.250000</td>\n",
       "      <td>...</td>\n",
       "      <td>97.800000</td>\n",
       "      <td>96.300000</td>\n",
       "      <td>21.800000</td>\n",
       "      <td>25.750000</td>\n",
       "      <td>8.863713</td>\n",
       "      <td>19.500000</td>\n",
       "      <td>17.925000</td>\n",
       "      <td>17.800000</td>\n",
       "      <td>13.825000</td>\n",
       "      <td>34.90000</td>\n",
       "    </tr>\n",
       "    <tr>\n",
       "      <th>max</th>\n",
       "      <td>34.241822</td>\n",
       "      <td>24.590000</td>\n",
       "      <td>13.700000</td>\n",
       "      <td>73.957667</td>\n",
       "      <td>38.712874</td>\n",
       "      <td>552.670000</td>\n",
       "      <td>1.755798</td>\n",
       "      <td>37.700000</td>\n",
       "      <td>11.300000</td>\n",
       "      <td>23.600000</td>\n",
       "      <td>...</td>\n",
       "      <td>99.800000</td>\n",
       "      <td>99.800000</td>\n",
       "      <td>42.100000</td>\n",
       "      <td>50.230000</td>\n",
       "      <td>15.949567</td>\n",
       "      <td>27.100000</td>\n",
       "      <td>24.800000</td>\n",
       "      <td>65.800000</td>\n",
       "      <td>25.300000</td>\n",
       "      <td>57.40000</td>\n",
       "    </tr>\n",
       "  </tbody>\n",
       "</table>\n",
       "<p>8 rows × 21 columns</p>\n",
       "</div>"
      ],
      "text/plain": [
       "       Average.disposable.income  Children.in.poor.homes  \\\n",
       "count                  30.000000               30.000000   \n",
       "mean                   18.847713               12.372193   \n",
       "std                     7.597219                5.592696   \n",
       "min                     3.839462                2.740000   \n",
       "25%                    16.617877                8.901475   \n",
       "50%                    21.107187               11.659053   \n",
       "75%                    22.642722               16.091953   \n",
       "max                    34.241822               24.590000   \n",
       "\n",
       "       Educational.Deprivation  Overcrowding  Poor.environmental.conditions  \\\n",
       "count                30.000000     26.000000                      24.000000   \n",
       "mean                  2.673333     31.950163                      25.217498   \n",
       "std                   3.315370     21.132363                       7.483096   \n",
       "min                   0.400000     10.326503                      10.500000   \n",
       "25%                   1.000000     17.058130                      20.153506   \n",
       "50%                   1.500000     21.574977                      25.487116   \n",
       "75%                   2.200000     44.392351                      30.236732   \n",
       "max                  13.700000     73.957667                      38.712874   \n",
       "\n",
       "       Average.mean.literacy.score  Literacy.inequality  Youth.NEET.rate  \\\n",
       "count                    30.000000            30.000000        27.000000   \n",
       "mean                    496.317000             1.665085         7.377778   \n",
       "std                      29.381643             0.067391         6.489656   \n",
       "min                     408.670000             1.475432         1.700000   \n",
       "25%                     482.750000             1.623048         4.550000   \n",
       "50%                     501.335000             1.682739         6.200000   \n",
       "75%                     512.835000             1.719012         8.400000   \n",
       "max                     552.670000             1.755798        37.700000   \n",
       "\n",
       "       Low.birth.weight  Infant.mortality  ...  Vaccination.rates..pertussis.  \\\n",
       "count         30.000000         30.000000  ...                      29.000000   \n",
       "mean           6.643333          5.446667  ...                      93.775862   \n",
       "std            1.728001          4.506756  ...                       5.317334   \n",
       "min            3.900000          2.300000  ...                      78.000000   \n",
       "25%            5.150000          3.525000  ...                      91.000000   \n",
       "50%            6.750000          4.200000  ...                      95.800000   \n",
       "75%            7.500000          5.250000  ...                      97.800000   \n",
       "max           11.300000         23.600000  ...                      99.800000   \n",
       "\n",
       "       Vaccination.rates.measles.  Physical.activity  Mortality.rates  \\\n",
       "count                   29.000000          26.000000        29.000000   \n",
       "mean                    91.517241          20.134615        24.598966   \n",
       "std                      5.909138           6.157983         6.745815   \n",
       "min                     74.000000          13.100000        14.840000   \n",
       "25%                     88.000000          15.800000        21.170000   \n",
       "50%                     94.000000          19.300000        23.150000   \n",
       "75%                     96.300000          21.800000        25.750000   \n",
       "max                     99.800000          42.100000        50.230000   \n",
       "\n",
       "       Suicide.rates    Smoking  Drunkenness  Teenage.births   Bullying  \\\n",
       "count      29.000000  24.000000    24.000000       30.000000  24.000000   \n",
       "mean        6.856272  16.512500    15.225000       15.500000  10.979167   \n",
       "std         3.204545   4.766852     4.301794       13.967326   5.146462   \n",
       "min         1.263026   8.100000    10.000000        3.700000   4.200000   \n",
       "25%         5.036520  14.625000    11.350000        7.050000   7.975000   \n",
       "50%         6.784772  16.600000    14.550000       10.600000   9.650000   \n",
       "75%         8.863713  19.500000    17.925000       17.800000  13.825000   \n",
       "max        15.949567  27.100000    24.800000       65.800000  25.300000   \n",
       "\n",
       "       Liking.school  \n",
       "count       25.00000  \n",
       "mean        27.17200  \n",
       "std         10.39926  \n",
       "min         11.70000  \n",
       "25%         21.40000  \n",
       "50%         25.60000  \n",
       "75%         34.90000  \n",
       "max         57.40000  \n",
       "\n",
       "[8 rows x 21 columns]"
      ]
     },
     "execution_count": 16,
     "metadata": {},
     "output_type": "execute_result"
    }
   ],
   "source": [
    "data.describe()"
   ]
  },
  {
   "cell_type": "code",
   "execution_count": 15,
   "metadata": {},
   "outputs": [
    {
     "data": {
      "text/plain": [
       "Average.disposable.income         18.847713\n",
       "Children.in.poor.homes            12.372193\n",
       "Educational.Deprivation            2.673333\n",
       "Overcrowding                      31.950163\n",
       "Poor.environmental.conditions     25.217498\n",
       "Average.mean.literacy.score      496.317000\n",
       "Literacy.inequality                1.665085\n",
       "Youth.NEET.rate                    7.377778\n",
       "Low.birth.weight                   6.643333\n",
       "Infant.mortality                   5.446667\n",
       "Breastfeeding.rates               86.027586\n",
       "Vaccination.rates..pertussis.     93.775862\n",
       "Vaccination.rates.measles.        91.517241\n",
       "Physical.activity                 20.134615\n",
       "Mortality.rates                   24.598966\n",
       "Suicide.rates                      6.856272\n",
       "Smoking                           16.512500\n",
       "Drunkenness                       15.225000\n",
       "Teenage.births                    15.500000\n",
       "Bullying                          10.979167\n",
       "Liking.school                     27.172000\n",
       "dtype: float64"
      ]
     },
     "execution_count": 15,
     "metadata": {},
     "output_type": "execute_result"
    }
   ],
   "source": [
    "data.mean()"
   ]
  },
  {
   "cell_type": "code",
   "execution_count": 17,
   "metadata": {},
   "outputs": [
    {
     "data": {
      "text/plain": [
       "Average.disposable.income         21.107187\n",
       "Children.in.poor.homes            11.659053\n",
       "Educational.Deprivation            1.500000\n",
       "Overcrowding                      21.574977\n",
       "Poor.environmental.conditions     25.487116\n",
       "Average.mean.literacy.score      501.335000\n",
       "Literacy.inequality                1.682739\n",
       "Youth.NEET.rate                    6.200000\n",
       "Low.birth.weight                   6.750000\n",
       "Infant.mortality                   4.200000\n",
       "Breastfeeding.rates               91.000000\n",
       "Vaccination.rates..pertussis.     95.800000\n",
       "Vaccination.rates.measles.        94.000000\n",
       "Physical.activity                 19.300000\n",
       "Mortality.rates                   23.150000\n",
       "Suicide.rates                      6.784772\n",
       "Smoking                           16.600000\n",
       "Drunkenness                       14.550000\n",
       "Teenage.births                    10.600000\n",
       "Bullying                           9.650000\n",
       "Liking.school                     25.600000\n",
       "dtype: float64"
      ]
     },
     "execution_count": 17,
     "metadata": {},
     "output_type": "execute_result"
    }
   ],
   "source": [
    "data.median()"
   ]
  },
  {
   "cell_type": "markdown",
   "metadata": {},
   "source": [
    "d) prüfen ob Niederlande oder China vorhanden ist"
   ]
  },
  {
   "cell_type": "code",
   "execution_count": 9,
   "metadata": {},
   "outputs": [
    {
     "data": {
      "text/plain": [
       "Index(['Australia', 'Austria', 'Belgium', 'Canada', 'Czech Republic',\n",
       "       'Denmark', 'Finland', 'France', 'Germany', 'Greece', 'Hungary',\n",
       "       'Iceland', 'Ireland', 'Italy', 'Japan', 'Korea', 'Luxembourg', 'Mexico',\n",
       "       'Netherlands', 'New Zealand', 'Norway', 'Poland', 'Portugal',\n",
       "       'Slovak Republic', 'Spain', 'Sweden', 'Switzerland', 'Turkey',\n",
       "       'United Kingdom', 'United States'],\n",
       "      dtype='object')"
      ]
     },
     "execution_count": 9,
     "metadata": {},
     "output_type": "execute_result"
    }
   ],
   "source": [
    "data.index"
   ]
  },
  {
   "cell_type": "code",
   "execution_count": 19,
   "metadata": {},
   "outputs": [
    {
     "data": {
      "text/plain": [
       "('China', False)"
      ]
     },
     "execution_count": 19,
     "metadata": {},
     "output_type": "execute_result"
    }
   ],
   "source": [
    "\"China\", \"China\" in data.index"
   ]
  },
  {
   "cell_type": "code",
   "execution_count": 20,
   "metadata": {},
   "outputs": [
    {
     "data": {
      "text/plain": [
       "('Netherlands', True)"
      ]
     },
     "execution_count": 20,
     "metadata": {},
     "output_type": "execute_result"
    }
   ],
   "source": [
    "\"Netherlands\", \"Netherlands\" in data.index"
   ]
  },
  {
   "cell_type": "code",
   "execution_count": 21,
   "metadata": {},
   "outputs": [
    {
     "data": {
      "text/plain": [
       "Index(['Average.disposable.income', 'Children.in.poor.homes',\n",
       "       'Educational.Deprivation', 'Overcrowding',\n",
       "       'Poor.environmental.conditions', 'Average.mean.literacy.score',\n",
       "       'Literacy.inequality', 'Youth.NEET.rate', 'Low.birth.weight',\n",
       "       'Infant.mortality', 'Breastfeeding.rates',\n",
       "       'Vaccination.rates..pertussis.', 'Vaccination.rates.measles.',\n",
       "       'Physical.activity', 'Mortality.rates', 'Suicide.rates', 'Smoking',\n",
       "       'Drunkenness', 'Teenage.births', 'Bullying', 'Liking.school'],\n",
       "      dtype='object')"
      ]
     },
     "execution_count": 21,
     "metadata": {},
     "output_type": "execute_result"
    }
   ],
   "source": [
    "data.columns"
   ]
  },
  {
   "cell_type": "markdown",
   "metadata": {},
   "source": [
    "e) Aus der Teilaufgabe vorher sehen wir, dass Betrunkenheit in der Spalte\n",
    "Drunkenness aufgeführt wird. Um zu ermitteln, in welchen 5 Ländern die\n",
    "meisten Jugendlichen mindestens zweimal betrunken sind, ordnen wir den Datensatz nach Drunkenness"
   ]
  },
  {
   "cell_type": "code",
   "execution_count": 29,
   "metadata": {},
   "outputs": [
    {
     "data": {
      "text/plain": [
       "Index(['Denmark', 'Finland', 'United Kingdom', 'Poland', 'Canada', 'Austria',\n",
       "       'Hungary', 'Czech Republic', 'Slovak Republic', 'Ireland', 'Spain',\n",
       "       'Germany', 'Norway', 'Belgium', 'Sweden', 'Netherlands', 'Luxembourg',\n",
       "       'Switzerland', 'France', 'Portugal', 'Iceland', 'Greece',\n",
       "       'United States', 'Italy', 'Australia', 'Japan', 'Korea', 'Mexico',\n",
       "       'New Zealand', 'Turkey'],\n",
       "      dtype='object')"
      ]
     },
     "execution_count": 29,
     "metadata": {},
     "output_type": "execute_result"
    }
   ],
   "source": [
    "drunk = data.sort_values(by=\"Drunkenness\", ascending=False)[\"Drunkenness\"]\n",
    "drunk.loc[\"Denmark\"]"
   ]
  },
  {
   "cell_type": "markdown",
   "metadata": {},
   "source": [
    "f) In welchem Land ist die Säuglingssterblichkeit am geringsten? Wie hoch ist sie\n",
    "in diesem Land? Benützen Sie die Methode .nsmallest(...)."
   ]
  },
  {
   "cell_type": "code",
   "execution_count": 30,
   "metadata": {},
   "outputs": [
    {
     "data": {
      "text/plain": [
       "Index(['Iceland'], dtype='object')"
      ]
     },
     "execution_count": 30,
     "metadata": {},
     "output_type": "execute_result"
    }
   ],
   "source": [
    "infant = data.nsmallest(n=1, columns=\"Infant.mortality\")\n",
    "infant.index"
   ]
  },
  {
   "cell_type": "markdown",
   "metadata": {},
   "source": [
    "g)  In welchen Ländern ist der Prozentsatz an Jugendlichen, die sich regelmässig\n",
    "bewegen, kleiner als der Durchschnitt? Benützen Sie das Attribut .loc[... < ..., ;]"
   ]
  },
  {
   "cell_type": "code",
   "execution_count": 38,
   "metadata": {},
   "outputs": [
    {
     "data": {
      "text/plain": [
       "Index(['Austria', 'Belgium', 'France', 'Germany', 'Greece', 'Hungary', 'Italy',\n",
       "       'Luxembourg', 'Mexico', 'Norway', 'Poland', 'Portugal', 'Sweden',\n",
       "       'Switzerland', 'Turkey', 'United Kingdom'],\n",
       "      dtype='object')"
      ]
     },
     "execution_count": 38,
     "metadata": {},
     "output_type": "execute_result"
    }
   ],
   "source": [
    "mean_phys = data[\"Physical.activity\"].mean()\n",
    "filtered = data.loc[data[\"Physical.activity\"] < mean_phys,:]\n",
    "filtered.index"
   ]
  },
  {
   "cell_type": "markdown",
   "metadata": {},
   "source": [
    "## Aufgabe 1.2\n",
    "Das Dataframe d.fuel enthält die Daten verschiedener Fahrzeuge aus einer amerikanischen Untersuchung der 80er-Jahre. Jede Zeile (row) enthält die Daten eines Fahrzeuges\n",
    "(ein Fahrzeug entspricht einer Beobachtung).\n",
    "\n",
    "a) Lesen Sie die auf Ilias abgelegte Datei d.fuel.dat ein mit dem folgenden\n",
    "Pandas-Befehl:"
   ]
  },
  {
   "cell_type": "code",
   "execution_count": 39,
   "metadata": {},
   "outputs": [
    {
     "data": {
      "text/html": [
       "<div>\n",
       "<style scoped>\n",
       "    .dataframe tbody tr th:only-of-type {\n",
       "        vertical-align: middle;\n",
       "    }\n",
       "\n",
       "    .dataframe tbody tr th {\n",
       "        vertical-align: top;\n",
       "    }\n",
       "\n",
       "    .dataframe thead th {\n",
       "        text-align: right;\n",
       "    }\n",
       "</style>\n",
       "<table border=\"1\" class=\"dataframe\">\n",
       "  <thead>\n",
       "    <tr style=\"text-align: right;\">\n",
       "      <th></th>\n",
       "      <th>weight</th>\n",
       "      <th>mpg</th>\n",
       "      <th>type</th>\n",
       "    </tr>\n",
       "    <tr>\n",
       "      <th>X</th>\n",
       "      <th></th>\n",
       "      <th></th>\n",
       "      <th></th>\n",
       "    </tr>\n",
       "  </thead>\n",
       "  <tbody>\n",
       "    <tr>\n",
       "      <th>1</th>\n",
       "      <td>2560</td>\n",
       "      <td>33</td>\n",
       "      <td>Small</td>\n",
       "    </tr>\n",
       "    <tr>\n",
       "      <th>2</th>\n",
       "      <td>2345</td>\n",
       "      <td>33</td>\n",
       "      <td>Small</td>\n",
       "    </tr>\n",
       "    <tr>\n",
       "      <th>3</th>\n",
       "      <td>1845</td>\n",
       "      <td>37</td>\n",
       "      <td>Small</td>\n",
       "    </tr>\n",
       "    <tr>\n",
       "      <th>4</th>\n",
       "      <td>2260</td>\n",
       "      <td>32</td>\n",
       "      <td>Small</td>\n",
       "    </tr>\n",
       "    <tr>\n",
       "      <th>5</th>\n",
       "      <td>2440</td>\n",
       "      <td>32</td>\n",
       "      <td>Small</td>\n",
       "    </tr>\n",
       "  </tbody>\n",
       "</table>\n",
       "</div>"
      ],
      "text/plain": [
       "   weight  mpg   type\n",
       "X                    \n",
       "1    2560   33  Small\n",
       "2    2345   33  Small\n",
       "3    1845   37  Small\n",
       "4    2260   32  Small\n",
       "5    2440   32  Small"
      ]
     },
     "execution_count": 39,
     "metadata": {},
     "output_type": "execute_result"
    }
   ],
   "source": [
    "import pandas as pd\n",
    "from pandas import DataFrame, Series\n",
    "fuel = pd.read_csv(\"d.fuel.dat\", sep=\",\", index_col=0)\n",
    "fuel.head()"
   ]
  },
  {
   "cell_type": "markdown",
   "metadata": {},
   "source": [
    "b) Wählen Sie nur die fünfte Zeile des Dataframe d.fuel aus. Welche Werte stehen in der fünften Zeile? Verwenden Sie das Attribut .loc (siehe Aufgabe 1))."
   ]
  },
  {
   "cell_type": "code",
   "execution_count": 40,
   "metadata": {},
   "outputs": [
    {
     "data": {
      "text/plain": [
       "weight     2440\n",
       "mpg          32\n",
       "type      Small\n",
       "Name: 5, dtype: object"
      ]
     },
     "execution_count": 40,
     "metadata": {},
     "output_type": "execute_result"
    }
   ],
   "source": [
    "fuel.loc[5,:]"
   ]
  },
  {
   "cell_type": "markdown",
   "metadata": {},
   "source": [
    "c) Wählen Sie nun die erste bis fünfte Beobachtung des Datensatzes aus. So lässt\n",
    "sich übrigens bei einem unbekannten Datensatz ein schneller Überblick über\n",
    "die Art des Dataframe gewinnen."
   ]
  },
  {
   "cell_type": "code",
   "execution_count": 41,
   "metadata": {},
   "outputs": [
    {
     "data": {
      "text/html": [
       "<div>\n",
       "<style scoped>\n",
       "    .dataframe tbody tr th:only-of-type {\n",
       "        vertical-align: middle;\n",
       "    }\n",
       "\n",
       "    .dataframe tbody tr th {\n",
       "        vertical-align: top;\n",
       "    }\n",
       "\n",
       "    .dataframe thead th {\n",
       "        text-align: right;\n",
       "    }\n",
       "</style>\n",
       "<table border=\"1\" class=\"dataframe\">\n",
       "  <thead>\n",
       "    <tr style=\"text-align: right;\">\n",
       "      <th></th>\n",
       "      <th>weight</th>\n",
       "      <th>mpg</th>\n",
       "      <th>type</th>\n",
       "    </tr>\n",
       "    <tr>\n",
       "      <th>X</th>\n",
       "      <th></th>\n",
       "      <th></th>\n",
       "      <th></th>\n",
       "    </tr>\n",
       "  </thead>\n",
       "  <tbody>\n",
       "    <tr>\n",
       "      <th>1</th>\n",
       "      <td>2560</td>\n",
       "      <td>33</td>\n",
       "      <td>Small</td>\n",
       "    </tr>\n",
       "    <tr>\n",
       "      <th>2</th>\n",
       "      <td>2345</td>\n",
       "      <td>33</td>\n",
       "      <td>Small</td>\n",
       "    </tr>\n",
       "    <tr>\n",
       "      <th>3</th>\n",
       "      <td>1845</td>\n",
       "      <td>37</td>\n",
       "      <td>Small</td>\n",
       "    </tr>\n",
       "    <tr>\n",
       "      <th>4</th>\n",
       "      <td>2260</td>\n",
       "      <td>32</td>\n",
       "      <td>Small</td>\n",
       "    </tr>\n",
       "    <tr>\n",
       "      <th>5</th>\n",
       "      <td>2440</td>\n",
       "      <td>32</td>\n",
       "      <td>Small</td>\n",
       "    </tr>\n",
       "  </tbody>\n",
       "</table>\n",
       "</div>"
      ],
      "text/plain": [
       "   weight  mpg   type\n",
       "X                    \n",
       "1    2560   33  Small\n",
       "2    2345   33  Small\n",
       "3    1845   37  Small\n",
       "4    2260   32  Small\n",
       "5    2440   32  Small"
      ]
     },
     "execution_count": 41,
     "metadata": {},
     "output_type": "execute_result"
    }
   ],
   "source": [
    "fuel.head()"
   ]
  },
  {
   "cell_type": "code",
   "execution_count": 43,
   "metadata": {},
   "outputs": [
    {
     "data": {
      "text/html": [
       "<div>\n",
       "<style scoped>\n",
       "    .dataframe tbody tr th:only-of-type {\n",
       "        vertical-align: middle;\n",
       "    }\n",
       "\n",
       "    .dataframe tbody tr th {\n",
       "        vertical-align: top;\n",
       "    }\n",
       "\n",
       "    .dataframe thead th {\n",
       "        text-align: right;\n",
       "    }\n",
       "</style>\n",
       "<table border=\"1\" class=\"dataframe\">\n",
       "  <thead>\n",
       "    <tr style=\"text-align: right;\">\n",
       "      <th></th>\n",
       "      <th>weight</th>\n",
       "      <th>mpg</th>\n",
       "      <th>type</th>\n",
       "    </tr>\n",
       "    <tr>\n",
       "      <th>X</th>\n",
       "      <th></th>\n",
       "      <th></th>\n",
       "      <th></th>\n",
       "    </tr>\n",
       "  </thead>\n",
       "  <tbody>\n",
       "    <tr>\n",
       "      <th>1</th>\n",
       "      <td>2560</td>\n",
       "      <td>33</td>\n",
       "      <td>Small</td>\n",
       "    </tr>\n",
       "    <tr>\n",
       "      <th>2</th>\n",
       "      <td>2345</td>\n",
       "      <td>33</td>\n",
       "      <td>Small</td>\n",
       "    </tr>\n",
       "    <tr>\n",
       "      <th>3</th>\n",
       "      <td>1845</td>\n",
       "      <td>37</td>\n",
       "      <td>Small</td>\n",
       "    </tr>\n",
       "    <tr>\n",
       "      <th>4</th>\n",
       "      <td>2260</td>\n",
       "      <td>32</td>\n",
       "      <td>Small</td>\n",
       "    </tr>\n",
       "    <tr>\n",
       "      <th>5</th>\n",
       "      <td>2440</td>\n",
       "      <td>32</td>\n",
       "      <td>Small</td>\n",
       "    </tr>\n",
       "  </tbody>\n",
       "</table>\n",
       "</div>"
      ],
      "text/plain": [
       "   weight  mpg   type\n",
       "X                    \n",
       "1    2560   33  Small\n",
       "2    2345   33  Small\n",
       "3    1845   37  Small\n",
       "4    2260   32  Small\n",
       "5    2440   32  Small"
      ]
     },
     "execution_count": 43,
     "metadata": {},
     "output_type": "execute_result"
    }
   ],
   "source": [
    "fuel.loc[1:5,:]"
   ]
  },
  {
   "cell_type": "markdown",
   "metadata": {},
   "source": [
    "d) Berechnen Sie den Mittelwert der Reichweiten aller Autos in Miles/Gallon."
   ]
  },
  {
   "cell_type": "code",
   "execution_count": 44,
   "metadata": {},
   "outputs": [
    {
     "data": {
      "text/plain": [
       "24.583333333333332"
      ]
     },
     "execution_count": 44,
     "metadata": {},
     "output_type": "execute_result"
    }
   ],
   "source": [
    "fuel[\"mpg\"].mean()"
   ]
  },
  {
   "cell_type": "markdown",
   "metadata": {},
   "source": [
    "e) Berechnen Sie den Mittelwert der Reichweite der Autos 7 bis 22"
   ]
  },
  {
   "cell_type": "code",
   "execution_count": 47,
   "metadata": {},
   "outputs": [
    {
     "data": {
      "text/plain": [
       "27.75"
      ]
     },
     "execution_count": 47,
     "metadata": {},
     "output_type": "execute_result"
    }
   ],
   "source": [
    "fuel.loc[7:22,\"mpg\"].mean()"
   ]
  },
  {
   "cell_type": "markdown",
   "metadata": {},
   "source": [
    "f) Erzeugen Sie einen neuen Vektor t_kml, der alle Reichweiten in km/l, und\n",
    "einen Vektor t_kg, der alle Gewichte in kg enthält"
   ]
  },
  {
   "cell_type": "code",
   "execution_count": 49,
   "metadata": {},
   "outputs": [
    {
     "data": {
      "text/plain": [
       "X\n",
       "1    14.016073\n",
       "2    14.016073\n",
       "3    15.714991\n",
       "4    13.591343\n",
       "5    13.591343\n",
       "Name: mpg, dtype: float64"
      ]
     },
     "execution_count": 49,
     "metadata": {},
     "output_type": "execute_result"
    }
   ],
   "source": [
    "mileInKm = 1.6093\n",
    "gallonInL = 3.789\n",
    "t_kml = fuel[\"mpg\"] * mileInKm/gallonInL\n",
    "t_kml.head()"
   ]
  },
  {
   "cell_type": "code",
   "execution_count": 51,
   "metadata": {},
   "outputs": [
    {
     "data": {
      "text/plain": [
       "X\n",
       "1    1161.19040\n",
       "2    1063.66855\n",
       "3     836.87355\n",
       "4    1025.11340\n",
       "5    1106.75960\n",
       "Name: weight, dtype: float64"
      ]
     },
     "execution_count": 51,
     "metadata": {},
     "output_type": "execute_result"
    }
   ],
   "source": [
    "PoundInKg = 0.45359\n",
    "t_kg = fuel[\"weight\"] * PoundInKg\n",
    "t_kg.head()"
   ]
  },
  {
   "cell_type": "markdown",
   "metadata": {},
   "source": [
    "g) Berechnen Sie den Mittelwert der Reichweiten in km/l und denjenigen der\n",
    "Fahrzeuggewichte in kg."
   ]
  },
  {
   "cell_type": "code",
   "execution_count": 52,
   "metadata": {},
   "outputs": [
    {
     "data": {
      "text/plain": [
       "10.441266385149994"
      ]
     },
     "execution_count": 52,
     "metadata": {},
     "output_type": "execute_result"
    }
   ],
   "source": [
    "t_kml.mean()"
   ]
  },
  {
   "cell_type": "code",
   "execution_count": 53,
   "metadata": {},
   "outputs": [
    {
     "data": {
      "text/plain": [
       "1315.7889916666668"
      ]
     },
     "execution_count": 53,
     "metadata": {},
     "output_type": "execute_result"
    }
   ],
   "source": [
    "t_kg.mean()"
   ]
  },
  {
   "cell_type": "markdown",
   "metadata": {},
   "source": [
    "## Aufgabe 1.3\n",
    "Bei der Ermittlung der landwirtschaftlichen Nutzfläche von Bauernhöfen in einem\n",
    "Bezirk ergaben sich folgende Werte (in ha):\n",
    "2.1,2.4,2.8,3.1,4.2,4.9,5.1,6.0,6.4,7.3,10.8,12.5,13.0,13.7,14.8,17.6,19.6,23.0,25.0,35.2,39.6"
   ]
  },
  {
   "cell_type": "code",
   "execution_count": 56,
   "metadata": {},
   "outputs": [
    {
     "data": {
      "text/plain": [
       "0    2.1\n",
       "1    2.4\n",
       "2    2.8\n",
       "3    3.1\n",
       "4    4.2\n",
       "dtype: float64"
      ]
     },
     "execution_count": 56,
     "metadata": {},
     "output_type": "execute_result"
    }
   ],
   "source": [
    "from pandas import Series\n",
    "import pandas as pd\n",
    "import numpy as np\n",
    "x = Series([2.1, 2.4, 2.8, 3.1, 4.2, 4.9, 5.1, 6.0, 6.4, 7.3,\n",
    "            10.8, 12.5, 13.0, 13.7, 14.8, 17.6, 19.6, 23.0, 25.0, 35.2, 39.6])\n",
    "x.head()"
   ]
  },
  {
   "cell_type": "markdown",
   "metadata": {},
   "source": [
    "a) Berechnen Sie die Summen ∑ xi und ∑ xi^2"
   ]
  },
  {
   "cell_type": "code",
   "execution_count": 57,
   "metadata": {},
   "outputs": [
    {
     "data": {
      "text/plain": [
       "269.1"
      ]
     },
     "execution_count": 57,
     "metadata": {},
     "output_type": "execute_result"
    }
   ],
   "source": [
    "x.sum()"
   ]
  },
  {
   "cell_type": "code",
   "execution_count": 58,
   "metadata": {},
   "outputs": [
    {
     "data": {
      "text/plain": [
       "5729.27"
      ]
     },
     "execution_count": 58,
     "metadata": {},
     "output_type": "execute_result"
    }
   ],
   "source": [
    "(x*x).sum()"
   ]
  },
  {
   "cell_type": "markdown",
   "metadata": {},
   "source": [
    "b) Berechnen Sie den Mittelwert und die Standardabweichung (ohne die in pandas\n",
    "implementierten Funktionen, sondern aufgrund der Definition der Grössen).\n",
    "Python -Hinweis: Verwenden Sie die Methode .size()"
   ]
  },
  {
   "cell_type": "code",
   "execution_count": 69,
   "metadata": {},
   "outputs": [
    {
     "data": {
      "text/plain": [
       "12.814285714285715"
      ]
     },
     "execution_count": 69,
     "metadata": {},
     "output_type": "execute_result"
    }
   ],
   "source": [
    "mean_x = x.sum()/x.size\n",
    "mean_x"
   ]
  },
  {
   "cell_type": "code",
   "execution_count": 73,
   "metadata": {},
   "outputs": [
    {
     "data": {
      "text/plain": [
       "114.04728571428572"
      ]
     },
     "execution_count": 73,
     "metadata": {},
     "output_type": "execute_result"
    }
   ],
   "source": [
    "var_x = ((x-x_mean)**2).sum()/(x.size-1)\n",
    "var_x"
   ]
  },
  {
   "cell_type": "code",
   "execution_count": 75,
   "metadata": {},
   "outputs": [
    {
     "data": {
      "text/plain": [
       "10.679292378911898"
      ]
     },
     "execution_count": 75,
     "metadata": {},
     "output_type": "execute_result"
    }
   ],
   "source": [
    "sa = np.sqrt(var_x)\n",
    "sa"
   ]
  },
  {
   "cell_type": "markdown",
   "metadata": {},
   "source": [
    "c) Bestimmen Sie den Median (ohne die in pandas implementierte Funktion, sondern aufgrund der Definition der Grössen).\n",
    "Python -Hinweis: Verwenden Sie zum Sortieren die Methode .sort_values()\n",
    "und den Befehl np.round() zum Runden."
   ]
  },
  {
   "cell_type": "code",
   "execution_count": 76,
   "metadata": {},
   "outputs": [
    {
     "data": {
      "text/plain": [
       "10.8"
      ]
     },
     "execution_count": 76,
     "metadata": {},
     "output_type": "execute_result"
    }
   ],
   "source": [
    "x_sorted = x.sort_values(ascending=False)\n",
    "n = x.size\n",
    "k = np.round(0.5*n+0.5)-1\n",
    "x_sorted[k]"
   ]
  },
  {
   "cell_type": "markdown",
   "metadata": {},
   "source": [
    "d) Bestimmen Sie nun Mittelwert, Standardabweichung, Median und das 75 %\n",
    "Quantil mit den Methoden .mean(), .std(), .median()."
   ]
  },
  {
   "cell_type": "code",
   "execution_count": 77,
   "metadata": {},
   "outputs": [
    {
     "data": {
      "text/plain": [
       "12.814285714285715"
      ]
     },
     "execution_count": 77,
     "metadata": {},
     "output_type": "execute_result"
    }
   ],
   "source": [
    "x.mean()"
   ]
  },
  {
   "cell_type": "code",
   "execution_count": 78,
   "metadata": {},
   "outputs": [
    {
     "data": {
      "text/plain": [
       "10.679292378911898"
      ]
     },
     "execution_count": 78,
     "metadata": {},
     "output_type": "execute_result"
    }
   ],
   "source": [
    "x.std()"
   ]
  },
  {
   "cell_type": "code",
   "execution_count": 79,
   "metadata": {},
   "outputs": [
    {
     "data": {
      "text/plain": [
       "10.8"
      ]
     },
     "execution_count": 79,
     "metadata": {},
     "output_type": "execute_result"
    }
   ],
   "source": [
    "x.median()"
   ]
  },
  {
   "cell_type": "markdown",
   "metadata": {},
   "source": [
    "## Aufgabe 1.4\n",
    "Der Geysir Old Faithful im Yellowstone National Park ist eine der bekanntesten heissen Quellen. Für die Zuschauer und den Nationalparkdienst ist die Zeitspanne zwischen zwei Ausbrüchen und die Eruptionsdauer von grossem Interesse. Auf Ilias\n",
    "sind die Messungen in der Datei geysir.dat vom 1.8.1978 - 8.8.1978 in 3 Spalten\n",
    "abgelegt: Tag, Zeitspanne und Eruptionsdauer"
   ]
  },
  {
   "cell_type": "markdown",
   "metadata": {},
   "source": [
    "a) Zeichnen Sie Histogramme von der Zeitspanne zwischen zwei Ausbrüchen.\n",
    "Lesen Sie zuerst die Datei ein"
   ]
  },
  {
   "cell_type": "code",
   "execution_count": 80,
   "metadata": {},
   "outputs": [
    {
     "data": {
      "text/html": [
       "<div>\n",
       "<style scoped>\n",
       "    .dataframe tbody tr th:only-of-type {\n",
       "        vertical-align: middle;\n",
       "    }\n",
       "\n",
       "    .dataframe tbody tr th {\n",
       "        vertical-align: top;\n",
       "    }\n",
       "\n",
       "    .dataframe thead th {\n",
       "        text-align: right;\n",
       "    }\n",
       "</style>\n",
       "<table border=\"1\" class=\"dataframe\">\n",
       "  <thead>\n",
       "    <tr style=\"text-align: right;\">\n",
       "      <th></th>\n",
       "      <th>Tag</th>\n",
       "      <th>Zeitspanne</th>\n",
       "      <th>Eruptionsdauer</th>\n",
       "    </tr>\n",
       "  </thead>\n",
       "  <tbody>\n",
       "    <tr>\n",
       "      <th>1</th>\n",
       "      <td>1</td>\n",
       "      <td>78</td>\n",
       "      <td>4.4</td>\n",
       "    </tr>\n",
       "    <tr>\n",
       "      <th>2</th>\n",
       "      <td>1</td>\n",
       "      <td>74</td>\n",
       "      <td>3.9</td>\n",
       "    </tr>\n",
       "    <tr>\n",
       "      <th>3</th>\n",
       "      <td>1</td>\n",
       "      <td>68</td>\n",
       "      <td>4.0</td>\n",
       "    </tr>\n",
       "    <tr>\n",
       "      <th>4</th>\n",
       "      <td>1</td>\n",
       "      <td>76</td>\n",
       "      <td>4.0</td>\n",
       "    </tr>\n",
       "    <tr>\n",
       "      <th>5</th>\n",
       "      <td>1</td>\n",
       "      <td>80</td>\n",
       "      <td>3.5</td>\n",
       "    </tr>\n",
       "  </tbody>\n",
       "</table>\n",
       "</div>"
      ],
      "text/plain": [
       "   Tag  Zeitspanne  Eruptionsdauer\n",
       "1    1          78             4.4\n",
       "2    1          74             3.9\n",
       "3    1          68             4.0\n",
       "4    1          76             4.0\n",
       "5    1          80             3.5"
      ]
     },
     "execution_count": 80,
     "metadata": {},
     "output_type": "execute_result"
    }
   ],
   "source": [
    "from pandas import Series, DataFrame\n",
    "import pandas as pd\n",
    "import matplotlib.pyplot as plt\n",
    "import numpy as np\n",
    "geysir = pd.read_csv(\"geysir.dat\", sep=\" \", index_col=0)\n",
    "geysir.head()"
   ]
  },
  {
   "cell_type": "code",
   "execution_count": 84,
   "metadata": {},
   "outputs": [
    {
     "data": {
      "image/png": "[encoded data removed]",
      "text/plain": [
       "<Figure size 432x288 with 3 Axes>"
      ]
     },
     "metadata": {
      "needs_background": "light"
     },
     "output_type": "display_data"
    }
   ],
   "source": [
    "plt.subplot(221)\n",
    "geysir[\"Zeitspanne\"].plot(kind=\"hist\", edgecolor=\"black\")\n",
    "plt.xlabel(\"10 Klassen\")\n",
    "\n",
    "plt.subplot(222)\n",
    "geysir[\"Zeitspanne\"].plot(kind=\"hist\",bins=20,edgecolor=\"black\")\n",
    "plt.xlabel(\"20 Klassen\")\n",
    "\n",
    "plt.subplot(223)\n",
    "geysir[\"Zeitspanne\"].plot(kind=\"hist\",bins=np.arange(41,107,11),edgecolor=\"black\")\n",
    "plt.xlabel(\"Klassengrenzen 41, 52 , 63, 74 , 85, 96\")\n",
    "\n",
    "plt.show()"
   ]
  },
  {
   "cell_type": "markdown",
   "metadata": {},
   "source": [
    "Die drei Histogramme in der Abbildung zeigen die Intervalle zwischen zwei\n",
    "Ausbrüchen von Old Faithful. Auffallend ist, dass Zeitspannen um 55 Minuten\n",
    "aber auch zwischen 70 und 85 Minuten häufiger vorkommen als andere Intervalle. So eine Verteilung mit zwei Gipfeln heisst auch bimodal.\n",
    "Werden die Klassenbreiten ungeschickt gewählt, entdeckt man diese Besonderheit der Geysirdaten nicht. Das ist im dritten Histogramm passiert. Das Beispiel\n",
    "illustriert, dass die richtige Wahl der Klassenbreiten- bzw. grenzen wohlüberlegt sein muss."
   ]
  },
  {
   "cell_type": "markdown",
   "metadata": {},
   "source": [
    "Zeichnen Sie Histogramme (Anzahl Klassen variieren) von der Eruptionsdauer:\n",
    "geysir[\"Eruptionsdauer\"].plot(kind=\"hist\")\n",
    "Was fällt auf? Vergleichen Sie mit der ersten Teilaufgabe."
   ]
  },
  {
   "cell_type": "code",
   "execution_count": 85,
   "metadata": {},
   "outputs": [
    {
     "data": {
      "image/png": "[encoded data removed]",
      "text/plain": [
       "<Figure size 432x288 with 4 Axes>"
      ]
     },
     "metadata": {
      "needs_background": "light"
     },
     "output_type": "display_data"
    }
   ],
   "source": [
    "plt.subplot(221)\n",
    "geysir[\"Eruptionsdauer\"].plot(kind=\"hist\",bins=5,edgecolor=\"black\")\n",
    "plt.xlabel(\"5 Klassen\")\n",
    "\n",
    "plt.subplot(222)\n",
    "geysir[\"Eruptionsdauer\"].plot(kind=\"hist\",bins=10,edgecolor=\"black\")\n",
    "plt.xlabel(\"10 Klassen\")\n",
    "\n",
    "plt.subplot(223)\n",
    "geysir[\"Eruptionsdauer\"].plot(kind=\"hist\",bins=20,edgecolor=\"black\")\n",
    "plt.xlabel(\"20 Klassen\")\n",
    "\n",
    "plt.subplot(224)\n",
    "geysir[\"Eruptionsdauer\"].plot(kind=\"hist\",bins=30,edgecolor=\"black\")\n",
    "plt.xlabel(\"30 Klassen\")\n",
    "\n",
    "plt.show()"
   ]
  },
  {
   "cell_type": "markdown",
   "metadata": {},
   "source": [
    "c) Zeichnen Sie die empirische kumulative Verteilungsfunktion von der Eruptionsdauer von Old Faithful Geysir. Untersuchen Sie, wie viel Prozent der Eruptionen höchstens 2 Minuten gedauert haben, sowie welche Eruptionsdauer der\n",
    "60 % Eruptionen, die am längsten gedauert haben, mindestens gedauert haben"
   ]
  },
  {
   "cell_type": "code",
   "execution_count": 87,
   "metadata": {},
   "outputs": [
    {
     "data": {
      "text/plain": [
       "<matplotlib.axes._subplots.AxesSubplot at 0x22cf34e9ba8>"
      ]
     },
     "execution_count": 87,
     "metadata": {},
     "output_type": "execute_result"
    },
    {
     "data": {
      "image/png": "[encoded data removed]",
      "text/plain": [
       "<Figure size 432x288 with 1 Axes>"
      ]
     },
     "metadata": {
      "needs_background": "light"
     },
     "output_type": "display_data"
    }
   ],
   "source": [
    "geysir[\"Eruptionsdauer\"].plot(kind=\"hist\",density=True,cumulative=True,edgecolor=\"black\")"
   ]
  },
  {
   "cell_type": "code",
   "execution_count": null,
   "metadata": {},
   "outputs": [],
   "source": []
  }
 ],
 "metadata": {
  "kernelspec": {
   "display_name": "Python 3",
   "language": "python",
   "name": "python3"
  },
  "language_info": {
   "codemirror_mode": {
    "name": "ipython",
    "version": 3
   },
   "file_extension": ".py",
   "mimetype": "text/x-python",
   "name": "python",
   "nbconvert_exporter": "python",
   "pygments_lexer": "ipython3",
   "version": "3.7.3"
  }
 },
 "nbformat": 4,
 "nbformat_minor": 2
}
