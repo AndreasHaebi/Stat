{
 "cells": [
  {
   "cell_type": "markdown",
   "metadata": {},
   "source": [
    "## Aufgabe 2.1"
   ]
  },
  {
   "cell_type": "markdown",
   "metadata": {},
   "source": [
    "In einer Klasse wurden in einer Statistik-Prüfung folgende Noten geschrieben:\n",
    "4.2, 2.3, 5.6, 4.5, 4.8, 3.9, 5.9, 2.4, 5.9, 6, 4, 3.7, 5, 5.2, 4.5, 3.6, 5, 6, 2.8, 3.3, 5.5, 4.2, 4.9, 5.1"
   ]
  },
  {
   "cell_type": "code",
   "execution_count": 20,
   "metadata": {},
   "outputs": [
    {
     "data": {
      "text/plain": [
       "0    4.2\n",
       "1    2.3\n",
       "2    5.6\n",
       "3    4.5\n",
       "4    4.8\n",
       "dtype: float64"
      ]
     },
     "execution_count": 20,
     "metadata": {},
     "output_type": "execute_result"
    }
   ],
   "source": [
    "from pandas import Series\n",
    "import pandas as pd\n",
    "import numpy as np\n",
    "import matplotlib.pyplot as plt\n",
    "n1 = Series([4.2, 2.3, 5.6, 4.5, 4.8, 3.9, 5.9, 2.4, 5.9, 6, 4, 3.7, 5, 5.2, 4.5,\n",
    "            3.6, 5, 6, 2.8, 3.3, 5.5, 4.2, 4.9, 5.1])\n",
    "n1.head()"
   ]
  },
  {
   "cell_type": "code",
   "execution_count": 2,
   "metadata": {},
   "outputs": [
    {
     "data": {
      "text/plain": [
       "4.5125"
      ]
     },
     "execution_count": 2,
     "metadata": {},
     "output_type": "execute_result"
    }
   ],
   "source": [
    "n1.mean()"
   ]
  },
  {
   "cell_type": "code",
   "execution_count": 3,
   "metadata": {},
   "outputs": [
    {
     "data": {
      "text/plain": [
       "4.65"
      ]
     },
     "execution_count": 3,
     "metadata": {},
     "output_type": "execute_result"
    }
   ],
   "source": [
    "n1.median()"
   ]
  },
  {
   "cell_type": "markdown",
   "metadata": {},
   "source": [
    "a) Ändern Sie drei Noten im Datensatz so ab, dass der Median gleich bleibt, aber\n",
    "der Mittelwert sich stark ändert."
   ]
  },
  {
   "cell_type": "code",
   "execution_count": 12,
   "metadata": {},
   "outputs": [
    {
     "data": {
      "text/plain": [
       "1     2.3\n",
       "7     2.4\n",
       "18    2.8\n",
       "19    3.3\n",
       "15    3.6\n",
       "dtype: float64"
      ]
     },
     "execution_count": 12,
     "metadata": {},
     "output_type": "execute_result"
    }
   ],
   "source": [
    "n2 = x.sort_values(ascending=True)\n",
    "n2.head()"
   ]
  },
  {
   "cell_type": "code",
   "execution_count": 13,
   "metadata": {},
   "outputs": [
    {
     "data": {
      "text/plain": [
       "1     2.3\n",
       "2     2.4\n",
       "3     2.8\n",
       "4     3.3\n",
       "5     3.6\n",
       "6     3.7\n",
       "7     3.9\n",
       "8     4.0\n",
       "9     4.2\n",
       "10    4.2\n",
       "11    4.5\n",
       "12    4.5\n",
       "13    4.8\n",
       "14    4.9\n",
       "15    5.0\n",
       "16    5.0\n",
       "17    5.1\n",
       "18    5.2\n",
       "19    5.5\n",
       "20    5.6\n",
       "21    5.9\n",
       "22    5.9\n",
       "23    6.0\n",
       "24    6.0\n",
       "dtype: float64"
      ]
     },
     "execution_count": 13,
     "metadata": {},
     "output_type": "execute_result"
    }
   ],
   "source": [
    "n2.index = np.arange(1, n2.size+1)\n",
    "n2"
   ]
  },
  {
   "cell_type": "code",
   "execution_count": 15,
   "metadata": {},
   "outputs": [
    {
     "data": {
      "text/plain": [
       "4.65"
      ]
     },
     "execution_count": 15,
     "metadata": {},
     "output_type": "execute_result"
    }
   ],
   "source": [
    "n2[11], n2[10], n2[9] = 1,1,1\n",
    "n2.median()"
   ]
  },
  {
   "cell_type": "code",
   "execution_count": 16,
   "metadata": {},
   "outputs": [
    {
     "data": {
      "text/plain": [
       "4.1000000000000005"
      ]
     },
     "execution_count": 16,
     "metadata": {},
     "output_type": "execute_result"
    }
   ],
   "source": [
    "n2.mean()"
   ]
  },
  {
   "cell_type": "markdown",
   "metadata": {},
   "source": [
    "b) Erstellen Sie zu den beiden Datensätzen je ein Histogramm und einen Boxplot.\n",
    "Verwenden Sie plt.subplot(...)."
   ]
  },
  {
   "cell_type": "code",
   "execution_count": 21,
   "metadata": {
    "scrolled": true
   },
   "outputs": [
    {
     "data": {
      "image/png": "[encoded data removed]",
      "text/plain": [
       "<Figure size 432x288 with 4 Axes>"
      ]
     },
     "metadata": {
      "needs_background": "light"
     },
     "output_type": "display_data"
    }
   ],
   "source": [
    "plt.subplot(221)\n",
    "n1.plot(kind=\"box\")\n",
    "\n",
    "plt.subplot(222)\n",
    "n2.plot(kind=\"box\")\n",
    "\n",
    "plt.subplot(223)\n",
    "n1.plot(kind=\"hist\",edgecolor=\"black\")\n",
    "\n",
    "plt.subplot(224)\n",
    "n2.plot(kind=\"hist\",edgecolor=\"black\")\n",
    "\n",
    "plt.show()\n"
   ]
  },
  {
   "cell_type": "markdown",
   "metadata": {},
   "source": [
    "## Aufgabe 2.2\n",
    "21 Labors bestimmten den Kupfergehalt von 9 verschiedenen Klärschlammproben.\n",
    "Die Daten stehen in der auf Ilias abgelegten Datei klaerschlamm.dat zur Verfügung. Die erste Spalte bezeichnet das Labor, die restlichen 9 Spalten sind die verschiedenen Klärschlammproben. Die Daten (in mg/kg) können mit dem Befehl"
   ]
  },
  {
   "cell_type": "code",
   "execution_count": 22,
   "metadata": {},
   "outputs": [],
   "source": [
    "schlamm = pd.read_csv(\"klaerschlamm.dat\", sep=\" \", index_col=0)"
   ]
  },
  {
   "cell_type": "markdown",
   "metadata": {},
   "source": [
    "eingelesen werden (für * wieder der Dateipfad). Die erste Spalte Labor wollen wir\n",
    "noch entfernen, da sie uns nicht interessiert."
   ]
  },
  {
   "cell_type": "code",
   "execution_count": 23,
   "metadata": {},
   "outputs": [
    {
     "data": {
      "text/html": [
       "<div>\n",
       "<style scoped>\n",
       "    .dataframe tbody tr th:only-of-type {\n",
       "        vertical-align: middle;\n",
       "    }\n",
       "\n",
       "    .dataframe tbody tr th {\n",
       "        vertical-align: top;\n",
       "    }\n",
       "\n",
       "    .dataframe thead th {\n",
       "        text-align: right;\n",
       "    }\n",
       "</style>\n",
       "<table border=\"1\" class=\"dataframe\">\n",
       "  <thead>\n",
       "    <tr style=\"text-align: right;\">\n",
       "      <th></th>\n",
       "      <th>Pr1</th>\n",
       "      <th>Pr2</th>\n",
       "      <th>Pr3</th>\n",
       "      <th>Pr4</th>\n",
       "      <th>Pr5</th>\n",
       "      <th>Pr6</th>\n",
       "      <th>Pr7</th>\n",
       "      <th>Pr8</th>\n",
       "      <th>Pr9</th>\n",
       "    </tr>\n",
       "  </thead>\n",
       "  <tbody>\n",
       "    <tr>\n",
       "      <th>1</th>\n",
       "      <td>233</td>\n",
       "      <td>491</td>\n",
       "      <td>428</td>\n",
       "      <td>376</td>\n",
       "      <td>200</td>\n",
       "      <td>364</td>\n",
       "      <td>474</td>\n",
       "      <td>444</td>\n",
       "      <td>351</td>\n",
       "    </tr>\n",
       "    <tr>\n",
       "      <th>2</th>\n",
       "      <td>253</td>\n",
       "      <td>530</td>\n",
       "      <td>453</td>\n",
       "      <td>389</td>\n",
       "      <td>191</td>\n",
       "      <td>402</td>\n",
       "      <td>495</td>\n",
       "      <td>453</td>\n",
       "      <td>371</td>\n",
       "    </tr>\n",
       "    <tr>\n",
       "      <th>3</th>\n",
       "      <td>240</td>\n",
       "      <td>530</td>\n",
       "      <td>460</td>\n",
       "      <td>390</td>\n",
       "      <td>200</td>\n",
       "      <td>390</td>\n",
       "      <td>480</td>\n",
       "      <td>440</td>\n",
       "      <td>350</td>\n",
       "    </tr>\n",
       "    <tr>\n",
       "      <th>4</th>\n",
       "      <td>243</td>\n",
       "      <td>518</td>\n",
       "      <td>456</td>\n",
       "      <td>389</td>\n",
       "      <td>186</td>\n",
       "      <td>385</td>\n",
       "      <td>483</td>\n",
       "      <td>459</td>\n",
       "      <td>369</td>\n",
       "    </tr>\n",
       "    <tr>\n",
       "      <th>5</th>\n",
       "      <td>244</td>\n",
       "      <td>521</td>\n",
       "      <td>446</td>\n",
       "      <td>392</td>\n",
       "      <td>193</td>\n",
       "      <td>385</td>\n",
       "      <td>481</td>\n",
       "      <td>451</td>\n",
       "      <td>357</td>\n",
       "    </tr>\n",
       "  </tbody>\n",
       "</table>\n",
       "</div>"
      ],
      "text/plain": [
       "   Pr1  Pr2  Pr3  Pr4  Pr5  Pr6  Pr7  Pr8  Pr9\n",
       "1  233  491  428  376  200  364  474  444  351\n",
       "2  253  530  453  389  191  402  495  453  371\n",
       "3  240  530  460  390  200  390  480  440  350\n",
       "4  243  518  456  389  186  385  483  459  369\n",
       "5  244  521  446  392  193  385  481  451  357"
      ]
     },
     "execution_count": 23,
     "metadata": {},
     "output_type": "execute_result"
    }
   ],
   "source": [
    "schlamm = schlamm.drop(\"Labor\",1)\n",
    "schlamm.head()"
   ]
  },
  {
   "cell_type": "markdown",
   "metadata": {},
   "source": [
    "a) Erstellen Sie für jede Probe einen Boxplot, und berechnen Sie jeweils das arithmetische Mittel und den Median. Bei welchen Proben gibt es Ausreisser, und\n",
    "wo unterscheiden sich arithmetisches Mittel und Median wesentlich? Bei welchen\n",
    "der 9 Proben ist es plausibel, dass die wahre Konzentration unter 400 mg/kg\n",
    "liegt?"
   ]
  },
  {
   "cell_type": "code",
   "execution_count": 24,
   "metadata": {},
   "outputs": [
    {
     "data": {
      "text/html": [
       "<div>\n",
       "<style scoped>\n",
       "    .dataframe tbody tr th:only-of-type {\n",
       "        vertical-align: middle;\n",
       "    }\n",
       "\n",
       "    .dataframe tbody tr th {\n",
       "        vertical-align: top;\n",
       "    }\n",
       "\n",
       "    .dataframe thead th {\n",
       "        text-align: right;\n",
       "    }\n",
       "</style>\n",
       "<table border=\"1\" class=\"dataframe\">\n",
       "  <thead>\n",
       "    <tr style=\"text-align: right;\">\n",
       "      <th></th>\n",
       "      <th>Pr1</th>\n",
       "      <th>Pr2</th>\n",
       "      <th>Pr3</th>\n",
       "      <th>Pr4</th>\n",
       "      <th>Pr5</th>\n",
       "      <th>Pr6</th>\n",
       "      <th>Pr7</th>\n",
       "      <th>Pr8</th>\n",
       "      <th>Pr9</th>\n",
       "    </tr>\n",
       "  </thead>\n",
       "  <tbody>\n",
       "    <tr>\n",
       "      <th>count</th>\n",
       "      <td>21.000000</td>\n",
       "      <td>21.000000</td>\n",
       "      <td>21.000000</td>\n",
       "      <td>21.000000</td>\n",
       "      <td>21.000000</td>\n",
       "      <td>21.000000</td>\n",
       "      <td>21.000000</td>\n",
       "      <td>21.000000</td>\n",
       "      <td>21.000000</td>\n",
       "    </tr>\n",
       "    <tr>\n",
       "      <th>mean</th>\n",
       "      <td>246.142857</td>\n",
       "      <td>511.428571</td>\n",
       "      <td>443.428571</td>\n",
       "      <td>389.238095</td>\n",
       "      <td>188.238095</td>\n",
       "      <td>394.857143</td>\n",
       "      <td>465.523810</td>\n",
       "      <td>449.952381</td>\n",
       "      <td>388.904762</td>\n",
       "    </tr>\n",
       "    <tr>\n",
       "      <th>std</th>\n",
       "      <td>18.210672</td>\n",
       "      <td>76.962050</td>\n",
       "      <td>34.156363</td>\n",
       "      <td>56.642656</td>\n",
       "      <td>16.866845</td>\n",
       "      <td>56.642110</td>\n",
       "      <td>91.361162</td>\n",
       "      <td>57.069673</td>\n",
       "      <td>104.159927</td>\n",
       "    </tr>\n",
       "    <tr>\n",
       "      <th>min</th>\n",
       "      <td>216.000000</td>\n",
       "      <td>268.000000</td>\n",
       "      <td>378.000000</td>\n",
       "      <td>223.000000</td>\n",
       "      <td>157.000000</td>\n",
       "      <td>337.000000</td>\n",
       "      <td>110.000000</td>\n",
       "      <td>323.000000</td>\n",
       "      <td>319.000000</td>\n",
       "    </tr>\n",
       "    <tr>\n",
       "      <th>25%</th>\n",
       "      <td>239.000000</td>\n",
       "      <td>491.000000</td>\n",
       "      <td>422.000000</td>\n",
       "      <td>373.000000</td>\n",
       "      <td>178.000000</td>\n",
       "      <td>366.000000</td>\n",
       "      <td>456.000000</td>\n",
       "      <td>423.000000</td>\n",
       "      <td>350.000000</td>\n",
       "    </tr>\n",
       "    <tr>\n",
       "      <th>50%</th>\n",
       "      <td>244.000000</td>\n",
       "      <td>521.000000</td>\n",
       "      <td>446.000000</td>\n",
       "      <td>390.000000</td>\n",
       "      <td>188.000000</td>\n",
       "      <td>385.000000</td>\n",
       "      <td>481.000000</td>\n",
       "      <td>451.000000</td>\n",
       "      <td>369.000000</td>\n",
       "    </tr>\n",
       "    <tr>\n",
       "      <th>75%</th>\n",
       "      <td>257.000000</td>\n",
       "      <td>530.000000</td>\n",
       "      <td>459.000000</td>\n",
       "      <td>405.000000</td>\n",
       "      <td>200.000000</td>\n",
       "      <td>393.000000</td>\n",
       "      <td>493.000000</td>\n",
       "      <td>467.000000</td>\n",
       "      <td>382.000000</td>\n",
       "    </tr>\n",
       "    <tr>\n",
       "      <th>max</th>\n",
       "      <td>296.000000</td>\n",
       "      <td>732.000000</td>\n",
       "      <td>548.000000</td>\n",
       "      <td>562.000000</td>\n",
       "      <td>221.000000</td>\n",
       "      <td>557.000000</td>\n",
       "      <td>642.000000</td>\n",
       "      <td>639.000000</td>\n",
       "      <td>819.000000</td>\n",
       "    </tr>\n",
       "  </tbody>\n",
       "</table>\n",
       "</div>"
      ],
      "text/plain": [
       "              Pr1         Pr2         Pr3         Pr4         Pr5         Pr6  \\\n",
       "count   21.000000   21.000000   21.000000   21.000000   21.000000   21.000000   \n",
       "mean   246.142857  511.428571  443.428571  389.238095  188.238095  394.857143   \n",
       "std     18.210672   76.962050   34.156363   56.642656   16.866845   56.642110   \n",
       "min    216.000000  268.000000  378.000000  223.000000  157.000000  337.000000   \n",
       "25%    239.000000  491.000000  422.000000  373.000000  178.000000  366.000000   \n",
       "50%    244.000000  521.000000  446.000000  390.000000  188.000000  385.000000   \n",
       "75%    257.000000  530.000000  459.000000  405.000000  200.000000  393.000000   \n",
       "max    296.000000  732.000000  548.000000  562.000000  221.000000  557.000000   \n",
       "\n",
       "              Pr7         Pr8         Pr9  \n",
       "count   21.000000   21.000000   21.000000  \n",
       "mean   465.523810  449.952381  388.904762  \n",
       "std     91.361162   57.069673  104.159927  \n",
       "min    110.000000  323.000000  319.000000  \n",
       "25%    456.000000  423.000000  350.000000  \n",
       "50%    481.000000  451.000000  369.000000  \n",
       "75%    493.000000  467.000000  382.000000  \n",
       "max    642.000000  639.000000  819.000000  "
      ]
     },
     "execution_count": 24,
     "metadata": {},
     "output_type": "execute_result"
    }
   ],
   "source": [
    "schlamm.describe()"
   ]
  },
  {
   "cell_type": "code",
   "execution_count": 25,
   "metadata": {},
   "outputs": [
    {
     "data": {
      "text/plain": [
       "<matplotlib.axes._subplots.AxesSubplot at 0x18fb4b8e630>"
      ]
     },
     "execution_count": 25,
     "metadata": {},
     "output_type": "execute_result"
    },
    {
     "data": {
      "image/png": "[encoded data removed]",
      "text/plain": [
       "<Figure size 432x288 with 1 Axes>"
      ]
     },
     "metadata": {
      "needs_background": "light"
     },
     "output_type": "display_data"
    }
   ],
   "source": [
    "schlamm.plot(kind=\"box\")"
   ]
  },
  {
   "cell_type": "markdown",
   "metadata": {},
   "source": [
    "b) Erstellen Sie für jedes Labor einen Boxplot der Messfehler. Unter dem Messfehler eines Labors bei einer Probe verstehen wir den gemessenen Wert minus den Median über alle Labors. Welche der 21 Labors haben systematische\n",
    "Fehler in ihrem Analyseverfahren? Welche haben grosse Zufallsfehler, und bei\n",
    "welchen Labors ist die Qualität der Analysen besonders gut?\n",
    "Python-Hinweise: Wir ziehen zunächst von jeder Spalte den Median ab"
   ]
  },
  {
   "cell_type": "code",
   "execution_count": 28,
   "metadata": {},
   "outputs": [
    {
     "data": {
      "text/html": [
       "<div>\n",
       "<style scoped>\n",
       "    .dataframe tbody tr th:only-of-type {\n",
       "        vertical-align: middle;\n",
       "    }\n",
       "\n",
       "    .dataframe tbody tr th {\n",
       "        vertical-align: top;\n",
       "    }\n",
       "\n",
       "    .dataframe thead th {\n",
       "        text-align: right;\n",
       "    }\n",
       "</style>\n",
       "<table border=\"1\" class=\"dataframe\">\n",
       "  <thead>\n",
       "    <tr style=\"text-align: right;\">\n",
       "      <th></th>\n",
       "      <th>Pr1</th>\n",
       "      <th>Pr2</th>\n",
       "      <th>Pr3</th>\n",
       "      <th>Pr4</th>\n",
       "      <th>Pr5</th>\n",
       "      <th>Pr6</th>\n",
       "      <th>Pr7</th>\n",
       "      <th>Pr8</th>\n",
       "      <th>Pr9</th>\n",
       "    </tr>\n",
       "  </thead>\n",
       "  <tbody>\n",
       "    <tr>\n",
       "      <th>1</th>\n",
       "      <td>-13.142857</td>\n",
       "      <td>-20.428571</td>\n",
       "      <td>-15.428571</td>\n",
       "      <td>-13.238095</td>\n",
       "      <td>11.761905</td>\n",
       "      <td>-30.857143</td>\n",
       "      <td>8.47619</td>\n",
       "      <td>-5.952381</td>\n",
       "      <td>-37.904762</td>\n",
       "    </tr>\n",
       "    <tr>\n",
       "      <th>2</th>\n",
       "      <td>6.857143</td>\n",
       "      <td>18.571429</td>\n",
       "      <td>9.571429</td>\n",
       "      <td>-0.238095</td>\n",
       "      <td>2.761905</td>\n",
       "      <td>7.142857</td>\n",
       "      <td>29.47619</td>\n",
       "      <td>3.047619</td>\n",
       "      <td>-17.904762</td>\n",
       "    </tr>\n",
       "    <tr>\n",
       "      <th>3</th>\n",
       "      <td>-6.142857</td>\n",
       "      <td>18.571429</td>\n",
       "      <td>16.571429</td>\n",
       "      <td>0.761905</td>\n",
       "      <td>11.761905</td>\n",
       "      <td>-4.857143</td>\n",
       "      <td>14.47619</td>\n",
       "      <td>-9.952381</td>\n",
       "      <td>-38.904762</td>\n",
       "    </tr>\n",
       "    <tr>\n",
       "      <th>4</th>\n",
       "      <td>-3.142857</td>\n",
       "      <td>6.571429</td>\n",
       "      <td>12.571429</td>\n",
       "      <td>-0.238095</td>\n",
       "      <td>-2.238095</td>\n",
       "      <td>-9.857143</td>\n",
       "      <td>17.47619</td>\n",
       "      <td>9.047619</td>\n",
       "      <td>-19.904762</td>\n",
       "    </tr>\n",
       "    <tr>\n",
       "      <th>5</th>\n",
       "      <td>-2.142857</td>\n",
       "      <td>9.571429</td>\n",
       "      <td>2.571429</td>\n",
       "      <td>2.761905</td>\n",
       "      <td>4.761905</td>\n",
       "      <td>-9.857143</td>\n",
       "      <td>15.47619</td>\n",
       "      <td>1.047619</td>\n",
       "      <td>-31.904762</td>\n",
       "    </tr>\n",
       "    <tr>\n",
       "      <th>6</th>\n",
       "      <td>10.857143</td>\n",
       "      <td>35.571429</td>\n",
       "      <td>15.571429</td>\n",
       "      <td>17.761905</td>\n",
       "      <td>9.761905</td>\n",
       "      <td>-12.857143</td>\n",
       "      <td>36.47619</td>\n",
       "      <td>12.047619</td>\n",
       "      <td>77.095238</td>\n",
       "    </tr>\n",
       "    <tr>\n",
       "      <th>7</th>\n",
       "      <td>5.857143</td>\n",
       "      <td>-34.428571</td>\n",
       "      <td>-29.428571</td>\n",
       "      <td>1.761905</td>\n",
       "      <td>1.761905</td>\n",
       "      <td>-28.857143</td>\n",
       "      <td>-9.52381</td>\n",
       "      <td>-62.952381</td>\n",
       "      <td>-49.904762</td>\n",
       "    </tr>\n",
       "    <tr>\n",
       "      <th>8</th>\n",
       "      <td>16.857143</td>\n",
       "      <td>18.571429</td>\n",
       "      <td>14.571429</td>\n",
       "      <td>30.761905</td>\n",
       "      <td>32.761905</td>\n",
       "      <td>-5.857143</td>\n",
       "      <td>27.47619</td>\n",
       "      <td>25.047619</td>\n",
       "      <td>-10.904762</td>\n",
       "    </tr>\n",
       "    <tr>\n",
       "      <th>9</th>\n",
       "      <td>15.857143</td>\n",
       "      <td>18.571429</td>\n",
       "      <td>10.571429</td>\n",
       "      <td>18.761905</td>\n",
       "      <td>-6.238095</td>\n",
       "      <td>-6.857143</td>\n",
       "      <td>30.47619</td>\n",
       "      <td>18.047619</td>\n",
       "      <td>-6.904762</td>\n",
       "    </tr>\n",
       "    <tr>\n",
       "      <th>10</th>\n",
       "      <td>13.857143</td>\n",
       "      <td>42.571429</td>\n",
       "      <td>28.571429</td>\n",
       "      <td>36.761905</td>\n",
       "      <td>22.761905</td>\n",
       "      <td>9.142857</td>\n",
       "      <td>22.47619</td>\n",
       "      <td>33.047619</td>\n",
       "      <td>-5.904762</td>\n",
       "    </tr>\n",
       "    <tr>\n",
       "      <th>11</th>\n",
       "      <td>-3.142857</td>\n",
       "      <td>15.571429</td>\n",
       "      <td>0.571429</td>\n",
       "      <td>-20.238095</td>\n",
       "      <td>-25.238095</td>\n",
       "      <td>-1.857143</td>\n",
       "      <td>26.47619</td>\n",
       "      <td>6.047619</td>\n",
       "      <td>-37.904762</td>\n",
       "    </tr>\n",
       "    <tr>\n",
       "      <th>12</th>\n",
       "      <td>-20.142857</td>\n",
       "      <td>-41.428571</td>\n",
       "      <td>-27.428571</td>\n",
       "      <td>-16.238095</td>\n",
       "      <td>-10.238095</td>\n",
       "      <td>-47.857143</td>\n",
       "      <td>-20.52381</td>\n",
       "      <td>-126.952381</td>\n",
       "      <td>-1.904762</td>\n",
       "    </tr>\n",
       "    <tr>\n",
       "      <th>13</th>\n",
       "      <td>-7.142857</td>\n",
       "      <td>17.571429</td>\n",
       "      <td>-18.428571</td>\n",
       "      <td>-14.238095</td>\n",
       "      <td>-0.238095</td>\n",
       "      <td>-37.857143</td>\n",
       "      <td>-5.52381</td>\n",
       "      <td>-19.952381</td>\n",
       "      <td>-53.904762</td>\n",
       "    </tr>\n",
       "    <tr>\n",
       "      <th>14</th>\n",
       "      <td>-7.142857</td>\n",
       "      <td>-10.428571</td>\n",
       "      <td>-21.428571</td>\n",
       "      <td>12.761905</td>\n",
       "      <td>-17.238095</td>\n",
       "      <td>-57.857143</td>\n",
       "      <td>-21.52381</td>\n",
       "      <td>-33.952381</td>\n",
       "      <td>-25.904762</td>\n",
       "    </tr>\n",
       "    <tr>\n",
       "      <th>15</th>\n",
       "      <td>49.857143</td>\n",
       "      <td>220.571429</td>\n",
       "      <td>104.571429</td>\n",
       "      <td>172.761905</td>\n",
       "      <td>-21.238095</td>\n",
       "      <td>157.142857</td>\n",
       "      <td>176.47619</td>\n",
       "      <td>189.047619</td>\n",
       "      <td>42.095238</td>\n",
       "    </tr>\n",
       "    <tr>\n",
       "      <th>16</th>\n",
       "      <td>5.857143</td>\n",
       "      <td>9.571429</td>\n",
       "      <td>16.571429</td>\n",
       "      <td>15.761905</td>\n",
       "      <td>19.761905</td>\n",
       "      <td>21.142857</td>\n",
       "      <td>31.47619</td>\n",
       "      <td>17.047619</td>\n",
       "      <td>-15.904762</td>\n",
       "    </tr>\n",
       "    <tr>\n",
       "      <th>17</th>\n",
       "      <td>-28.142857</td>\n",
       "      <td>-22.428571</td>\n",
       "      <td>-13.428571</td>\n",
       "      <td>-20.238095</td>\n",
       "      <td>-1.238095</td>\n",
       "      <td>-28.857143</td>\n",
       "      <td>-9.52381</td>\n",
       "      <td>-35.952381</td>\n",
       "      <td>-50.904762</td>\n",
       "    </tr>\n",
       "    <tr>\n",
       "      <th>18</th>\n",
       "      <td>-30.142857</td>\n",
       "      <td>-31.428571</td>\n",
       "      <td>-27.428571</td>\n",
       "      <td>-32.238095</td>\n",
       "      <td>-9.238095</td>\n",
       "      <td>-25.857143</td>\n",
       "      <td>-15.52381</td>\n",
       "      <td>-26.952381</td>\n",
       "      <td>-69.904762</td>\n",
       "    </tr>\n",
       "    <tr>\n",
       "      <th>19</th>\n",
       "      <td>3.857143</td>\n",
       "      <td>-11.428571</td>\n",
       "      <td>26.571429</td>\n",
       "      <td>0.761905</td>\n",
       "      <td>21.761905</td>\n",
       "      <td>-4.857143</td>\n",
       "      <td>24.47619</td>\n",
       "      <td>0.047619</td>\n",
       "      <td>-8.904762</td>\n",
       "    </tr>\n",
       "    <tr>\n",
       "      <th>20</th>\n",
       "      <td>-23.142857</td>\n",
       "      <td>-16.428571</td>\n",
       "      <td>-40.428571</td>\n",
       "      <td>-28.238095</td>\n",
       "      <td>-15.238095</td>\n",
       "      <td>-41.857143</td>\n",
       "      <td>-23.52381</td>\n",
       "      <td>-33.952381</td>\n",
       "      <td>-63.904762</td>\n",
       "    </tr>\n",
       "    <tr>\n",
       "      <th>21</th>\n",
       "      <td>13.857143</td>\n",
       "      <td>-243.428571</td>\n",
       "      <td>-65.428571</td>\n",
       "      <td>-166.238095</td>\n",
       "      <td>-31.238095</td>\n",
       "      <td>162.142857</td>\n",
       "      <td>-355.52381</td>\n",
       "      <td>43.047619</td>\n",
       "      <td>430.095238</td>\n",
       "    </tr>\n",
       "  </tbody>\n",
       "</table>\n",
       "</div>"
      ],
      "text/plain": [
       "          Pr1         Pr2         Pr3         Pr4        Pr5         Pr6  \\\n",
       "1  -13.142857  -20.428571  -15.428571  -13.238095  11.761905  -30.857143   \n",
       "2    6.857143   18.571429    9.571429   -0.238095   2.761905    7.142857   \n",
       "3   -6.142857   18.571429   16.571429    0.761905  11.761905   -4.857143   \n",
       "4   -3.142857    6.571429   12.571429   -0.238095  -2.238095   -9.857143   \n",
       "5   -2.142857    9.571429    2.571429    2.761905   4.761905   -9.857143   \n",
       "6   10.857143   35.571429   15.571429   17.761905   9.761905  -12.857143   \n",
       "7    5.857143  -34.428571  -29.428571    1.761905   1.761905  -28.857143   \n",
       "8   16.857143   18.571429   14.571429   30.761905  32.761905   -5.857143   \n",
       "9   15.857143   18.571429   10.571429   18.761905  -6.238095   -6.857143   \n",
       "10  13.857143   42.571429   28.571429   36.761905  22.761905    9.142857   \n",
       "11  -3.142857   15.571429    0.571429  -20.238095 -25.238095   -1.857143   \n",
       "12 -20.142857  -41.428571  -27.428571  -16.238095 -10.238095  -47.857143   \n",
       "13  -7.142857   17.571429  -18.428571  -14.238095  -0.238095  -37.857143   \n",
       "14  -7.142857  -10.428571  -21.428571   12.761905 -17.238095  -57.857143   \n",
       "15  49.857143  220.571429  104.571429  172.761905 -21.238095  157.142857   \n",
       "16   5.857143    9.571429   16.571429   15.761905  19.761905   21.142857   \n",
       "17 -28.142857  -22.428571  -13.428571  -20.238095  -1.238095  -28.857143   \n",
       "18 -30.142857  -31.428571  -27.428571  -32.238095  -9.238095  -25.857143   \n",
       "19   3.857143  -11.428571   26.571429    0.761905  21.761905   -4.857143   \n",
       "20 -23.142857  -16.428571  -40.428571  -28.238095 -15.238095  -41.857143   \n",
       "21  13.857143 -243.428571  -65.428571 -166.238095 -31.238095  162.142857   \n",
       "\n",
       "          Pr7         Pr8         Pr9  \n",
       "1     8.47619   -5.952381  -37.904762  \n",
       "2    29.47619    3.047619  -17.904762  \n",
       "3    14.47619   -9.952381  -38.904762  \n",
       "4    17.47619    9.047619  -19.904762  \n",
       "5    15.47619    1.047619  -31.904762  \n",
       "6    36.47619   12.047619   77.095238  \n",
       "7    -9.52381  -62.952381  -49.904762  \n",
       "8    27.47619   25.047619  -10.904762  \n",
       "9    30.47619   18.047619   -6.904762  \n",
       "10   22.47619   33.047619   -5.904762  \n",
       "11   26.47619    6.047619  -37.904762  \n",
       "12  -20.52381 -126.952381   -1.904762  \n",
       "13   -5.52381  -19.952381  -53.904762  \n",
       "14  -21.52381  -33.952381  -25.904762  \n",
       "15  176.47619  189.047619   42.095238  \n",
       "16   31.47619   17.047619  -15.904762  \n",
       "17   -9.52381  -35.952381  -50.904762  \n",
       "18  -15.52381  -26.952381  -69.904762  \n",
       "19   24.47619    0.047619   -8.904762  \n",
       "20  -23.52381  -33.952381  -63.904762  \n",
       "21 -355.52381   43.047619  430.095238  "
      ]
     },
     "execution_count": 28,
     "metadata": {},
     "output_type": "execute_result"
    },
    {
     "data": {
      "image/png": "[encoded data removed]",
      "text/plain": [
       "<Figure size 432x288 with 1 Axes>"
      ]
     },
     "metadata": {
      "needs_background": "light"
     },
     "output_type": "display_data"
    }
   ],
   "source": [
    "schlamm_centered = schlamm - schlamm.mean()\n",
    "schlamm_centered.T.plot(kind=\"box\")\n",
    "schlamm_centered"
   ]
  },
  {
   "cell_type": "markdown",
   "metadata": {},
   "source": [
    "## Aufgabe 2.4\n",
    "Edwin Hubble untersuchte seit 1920 am Mount Wilson Observatory die Eigenschaften\n",
    "von Galaxien ausserhalb der Milchstrasse. Mit Überraschung bemerkte er einen Zusammenhang zwischen der Distanz einer Galaxie zur Erde und dessen Geschwindigkeit, sich von der Erde fortzubewegen (Fluchtgeschwindigkeit). Hubbles ursprüngliche Daten von 24 galaktischen Nebeln ( E. Hubble, Proceedings of the National Academy\n",
    "of Science 15 (1929): 168-73) sind in Tabelle 1 gezeigt. Die Fluchtgeschwindigkeit\n",
    "ist in Kilometer pro Sekunde angegeben und konnte aufgrund der Rotverschiebung\n",
    "im Lichtspektrum der Galaxien mit grosser Genauigkeit bestimmt werden. Die Distanz einer Galaxie zur Erde wird in Megaparsec (Mpc) gemessen: ein Megaparsec\n",
    "entspricht etwa 3.09 × 1010 m. Die Distanzen werden durch Vergleich der mittleren\n",
    "Luminosität von Galaxien mit der Luminosität von bestimmten bekannten Sternen\n",
    "bestimmt, wobei diese Methode relativ ungenau ist."
   ]
  },
  {
   "cell_type": "markdown",
   "metadata": {},
   "source": [
    "a) Erstellen Sie von den Daten in Tabelle 1 ein Streudiagramm, in dem Sie die\n",
    "Distanz versus Fluchtgeschwindigkeit aufzeichnen.\n",
    "Lesen Sie dazu die Datei ein:"
   ]
  },
  {
   "cell_type": "code",
   "execution_count": 30,
   "metadata": {},
   "outputs": [
    {
     "data": {
      "text/html": [
       "<div>\n",
       "<style scoped>\n",
       "    .dataframe tbody tr th:only-of-type {\n",
       "        vertical-align: middle;\n",
       "    }\n",
       "\n",
       "    .dataframe tbody tr th {\n",
       "        vertical-align: top;\n",
       "    }\n",
       "\n",
       "    .dataframe thead th {\n",
       "        text-align: right;\n",
       "    }\n",
       "</style>\n",
       "<table border=\"1\" class=\"dataframe\">\n",
       "  <thead>\n",
       "    <tr style=\"text-align: right;\">\n",
       "      <th></th>\n",
       "      <th>distance</th>\n",
       "      <th>recession.velocity</th>\n",
       "    </tr>\n",
       "  </thead>\n",
       "  <tbody>\n",
       "    <tr>\n",
       "      <th>0</th>\n",
       "      <td>0.032</td>\n",
       "      <td>170</td>\n",
       "    </tr>\n",
       "    <tr>\n",
       "      <th>1</th>\n",
       "      <td>0.034</td>\n",
       "      <td>290</td>\n",
       "    </tr>\n",
       "    <tr>\n",
       "      <th>2</th>\n",
       "      <td>0.214</td>\n",
       "      <td>-130</td>\n",
       "    </tr>\n",
       "    <tr>\n",
       "      <th>3</th>\n",
       "      <td>0.263</td>\n",
       "      <td>-70</td>\n",
       "    </tr>\n",
       "    <tr>\n",
       "      <th>4</th>\n",
       "      <td>0.275</td>\n",
       "      <td>-185</td>\n",
       "    </tr>\n",
       "  </tbody>\n",
       "</table>\n",
       "</div>"
      ],
      "text/plain": [
       "   distance  recession.velocity\n",
       "0     0.032                 170\n",
       "1     0.034                 290\n",
       "2     0.214                -130\n",
       "3     0.263                 -70\n",
       "4     0.275                -185"
      ]
     },
     "execution_count": 30,
     "metadata": {},
     "output_type": "execute_result"
    }
   ],
   "source": [
    "hubble = pd.read_csv(\"hubble.txt\", sep=\" \")\n",
    "hubble.head()"
   ]
  },
  {
   "cell_type": "code",
   "execution_count": 33,
   "metadata": {},
   "outputs": [
    {
     "data": {
      "text/plain": [
       "<matplotlib.axes._subplots.AxesSubplot at 0x18fb504f8d0>"
      ]
     },
     "execution_count": 33,
     "metadata": {},
     "output_type": "execute_result"
    },
    {
     "data": {
      "image/png": "[encoded data removed]",
      "text/plain": [
       "<Figure size 432x288 with 1 Axes>"
      ]
     },
     "metadata": {
      "needs_background": "light"
     },
     "output_type": "display_data"
    }
   ],
   "source": [
    "hubble.plot(kind=\"scatter\", x=\"recession.velocity\", y=\"distance\")"
   ]
  },
  {
   "cell_type": "markdown",
   "metadata": {},
   "source": [
    "b) Bestimmen Sie mit dem Befehl np.polyfit(...) (siehe Skript) die Koeffizienten β0 und β1 für die Regressionsgerade\n",
    "y = β0 + β1x\n",
    "wobei y die Distanz und x die Fluchtgeschwindigkeit bezeichnet."
   ]
  },
  {
   "cell_type": "code",
   "execution_count": 39,
   "metadata": {},
   "outputs": [
    {
     "name": "stdout",
     "output_type": "stream",
     "text": [
      "0.39909821584359256 0.0013729361049417946\n"
     ]
    },
    {
     "data": {
      "image/png": "[encoded data removed]",
      "text/plain": [
       "<Figure size 432x288 with 1 Axes>"
      ]
     },
     "metadata": {
      "needs_background": "light"
     },
     "output_type": "display_data"
    }
   ],
   "source": [
    "hubble.plot(kind=\"scatter\", x=\"recession.velocity\", y=\"distance\")\n",
    "b, a = np.polyfit(hubble[\"recession.velocity\"], hubble[\"distance\"], deg=1)\n",
    "\n",
    "x = np.linspace(hubble[\"recession.velocity\"].min(), hubble[\"recession.velocity\"].max())\n",
    "\n",
    "plt.plot(x, a + b*x, color=\"orange\")\n",
    "\n",
    "\n",
    "print(a, b)"
   ]
  },
  {
   "cell_type": "markdown",
   "metadata": {},
   "source": [
    "c) Bestimmen Sie noch den Korrelationskoeffizienten und interpretieren Sie diesen."
   ]
  },
  {
   "cell_type": "code",
   "execution_count": 40,
   "metadata": {},
   "outputs": [
    {
     "data": {
      "text/html": [
       "<div>\n",
       "<style scoped>\n",
       "    .dataframe tbody tr th:only-of-type {\n",
       "        vertical-align: middle;\n",
       "    }\n",
       "\n",
       "    .dataframe tbody tr th {\n",
       "        vertical-align: top;\n",
       "    }\n",
       "\n",
       "    .dataframe thead th {\n",
       "        text-align: right;\n",
       "    }\n",
       "</style>\n",
       "<table border=\"1\" class=\"dataframe\">\n",
       "  <thead>\n",
       "    <tr style=\"text-align: right;\">\n",
       "      <th></th>\n",
       "      <th>distance</th>\n",
       "      <th>recession.velocity</th>\n",
       "    </tr>\n",
       "  </thead>\n",
       "  <tbody>\n",
       "    <tr>\n",
       "      <th>distance</th>\n",
       "      <td>1.000000</td>\n",
       "      <td>0.789639</td>\n",
       "    </tr>\n",
       "    <tr>\n",
       "      <th>recession.velocity</th>\n",
       "      <td>0.789639</td>\n",
       "      <td>1.000000</td>\n",
       "    </tr>\n",
       "  </tbody>\n",
       "</table>\n",
       "</div>"
      ],
      "text/plain": [
       "                    distance  recession.velocity\n",
       "distance            1.000000            0.789639\n",
       "recession.velocity  0.789639            1.000000"
      ]
     },
     "execution_count": 40,
     "metadata": {},
     "output_type": "execute_result"
    }
   ],
   "source": [
    "hubble.corr()"
   ]
  },
  {
   "cell_type": "markdown",
   "metadata": {},
   "source": [
    "## Aufgabe 2.5\n",
    "Wir betrachten eine Studie, die 1979 in den Vereinigten Staaten durchgeführt wurde\n",
    "(National Longitudinal Study of Youth, NLSY79): von 2584 Amerikanern im Jahr 1981\n",
    "wurde die Intelligenz (gemäss AFQT - armed forces qualifying test score) gemessen;\n",
    "2006 wurden dieselben Personen nach ihrem jährlichen Einkommen im Jahr 2005 und\n",
    "der Anzahl Jahre Schulbildung befragt. Uns interessiert hier natürlich, ob hohe Intelligenz oder eine lange Schulbildung zu einem höheren Einkommen führen. In der auf\n",
    "Ilias abgelegten Datei income.dat finden Sie den Datensatz mit dem Einkommen,\n",
    "der Anzahl Jahre abgeschlossener Schulbildung und den ermittelten Intelligenzquotienten von 2584 Amerikanern."
   ]
  },
  {
   "cell_type": "markdown",
   "metadata": {},
   "source": [
    "a) Lesen Sie den Datensatz income.dat ein\n",
    "und generieren Sie zwei Streudiagramme, in welchen das Einkommen versus\n",
    "Anzahl Jahre Schulbildung bzw. Einkommen versus AFQT aufgetragen sind."
   ]
  },
  {
   "cell_type": "code",
   "execution_count": 41,
   "metadata": {},
   "outputs": [
    {
     "data": {
      "text/html": [
       "<div>\n",
       "<style scoped>\n",
       "    .dataframe tbody tr th:only-of-type {\n",
       "        vertical-align: middle;\n",
       "    }\n",
       "\n",
       "    .dataframe tbody tr th {\n",
       "        vertical-align: top;\n",
       "    }\n",
       "\n",
       "    .dataframe thead th {\n",
       "        text-align: right;\n",
       "    }\n",
       "</style>\n",
       "<table border=\"1\" class=\"dataframe\">\n",
       "  <thead>\n",
       "    <tr style=\"text-align: right;\">\n",
       "      <th></th>\n",
       "      <th>AFQT</th>\n",
       "      <th>Educ</th>\n",
       "      <th>Income2005</th>\n",
       "    </tr>\n",
       "  </thead>\n",
       "  <tbody>\n",
       "    <tr>\n",
       "      <th>0</th>\n",
       "      <td>6.841</td>\n",
       "      <td>12</td>\n",
       "      <td>5500</td>\n",
       "    </tr>\n",
       "    <tr>\n",
       "      <th>1</th>\n",
       "      <td>99.393</td>\n",
       "      <td>16</td>\n",
       "      <td>65000</td>\n",
       "    </tr>\n",
       "    <tr>\n",
       "      <th>2</th>\n",
       "      <td>47.412</td>\n",
       "      <td>12</td>\n",
       "      <td>19000</td>\n",
       "    </tr>\n",
       "    <tr>\n",
       "      <th>3</th>\n",
       "      <td>44.022</td>\n",
       "      <td>14</td>\n",
       "      <td>36000</td>\n",
       "    </tr>\n",
       "    <tr>\n",
       "      <th>4</th>\n",
       "      <td>59.683</td>\n",
       "      <td>14</td>\n",
       "      <td>65000</td>\n",
       "    </tr>\n",
       "  </tbody>\n",
       "</table>\n",
       "</div>"
      ],
      "text/plain": [
       "     AFQT  Educ  Income2005\n",
       "0   6.841    12        5500\n",
       "1  99.393    16       65000\n",
       "2  47.412    12       19000\n",
       "3  44.022    14       36000\n",
       "4  59.683    14       65000"
      ]
     },
     "execution_count": 41,
     "metadata": {},
     "output_type": "execute_result"
    }
   ],
   "source": [
    "income = pd.read_csv(\"income.dat\", sep=\" \")\n",
    "income.head()"
   ]
  },
  {
   "cell_type": "code",
   "execution_count": 51,
   "metadata": {},
   "outputs": [
    {
     "data": {
      "image/png": "[encoded data removed]",
      "text/plain": [
       "<Figure size 432x288 with 1 Axes>"
      ]
     },
     "metadata": {
      "needs_background": "light"
     },
     "output_type": "display_data"
    },
    {
     "name": "stdout",
     "output_type": "stream",
     "text": [
      "-40199.575352600004 6451.474555945791\n"
     ]
    }
   ],
   "source": [
    "income.plot(kind=\"scatter\", y=\"Income2005\", x=\"Educ\")\n",
    "b, a = np.polyfit(income[\"Educ\"], income[\"Income2005\"], deg=1)\n",
    "\n",
    "x = np.linspace(income[\"Educ\"].min(), income[\"Educ\"].max())\n",
    "plt.plot(x, a+b*x, color=\"orange\")\n",
    "\n",
    "plt.show()\n",
    "\n",
    "print(a, b)"
   ]
  },
  {
   "cell_type": "code",
   "execution_count": 52,
   "metadata": {},
   "outputs": [
    {
     "data": {
      "image/png": "[encoded data removed]",
      "text/plain": [
       "<Figure size 432x288 with 1 Axes>"
      ]
     },
     "metadata": {
      "needs_background": "light"
     },
     "output_type": "display_data"
    },
    {
     "name": "stdout",
     "output_type": "stream",
     "text": [
      "21181.656863527776 518.6820790195897\n"
     ]
    }
   ],
   "source": [
    "income.plot(kind=\"scatter\", y=\"Income2005\", x=\"AFQT\")\n",
    "b, a = np.polyfit(income[\"AFQT\"], income[\"Income2005\"], deg=1)\n",
    "x = np.linspace(income[\"AFQT\"].min(), income[\"AFQT\"].max())\n",
    "\n",
    "plt.plot(x, a + b*x, color=\"orange\")\n",
    "\n",
    "plt.show()\n",
    "print(a, b)"
   ]
  },
  {
   "cell_type": "code",
   "execution_count": 53,
   "metadata": {},
   "outputs": [
    {
     "data": {
      "text/html": [
       "<div>\n",
       "<style scoped>\n",
       "    .dataframe tbody tr th:only-of-type {\n",
       "        vertical-align: middle;\n",
       "    }\n",
       "\n",
       "    .dataframe tbody tr th {\n",
       "        vertical-align: top;\n",
       "    }\n",
       "\n",
       "    .dataframe thead th {\n",
       "        text-align: right;\n",
       "    }\n",
       "</style>\n",
       "<table border=\"1\" class=\"dataframe\">\n",
       "  <thead>\n",
       "    <tr style=\"text-align: right;\">\n",
       "      <th></th>\n",
       "      <th>AFQT</th>\n",
       "      <th>Educ</th>\n",
       "      <th>Income2005</th>\n",
       "    </tr>\n",
       "  </thead>\n",
       "  <tbody>\n",
       "    <tr>\n",
       "      <th>AFQT</th>\n",
       "      <td>1.000000</td>\n",
       "      <td>0.595160</td>\n",
       "      <td>0.308153</td>\n",
       "    </tr>\n",
       "    <tr>\n",
       "      <th>Educ</th>\n",
       "      <td>0.595160</td>\n",
       "      <td>1.000000</td>\n",
       "      <td>0.345647</td>\n",
       "    </tr>\n",
       "    <tr>\n",
       "      <th>Income2005</th>\n",
       "      <td>0.308153</td>\n",
       "      <td>0.345647</td>\n",
       "      <td>1.000000</td>\n",
       "    </tr>\n",
       "  </tbody>\n",
       "</table>\n",
       "</div>"
      ],
      "text/plain": [
       "                AFQT      Educ  Income2005\n",
       "AFQT        1.000000  0.595160    0.308153\n",
       "Educ        0.595160  1.000000    0.345647\n",
       "Income2005  0.308153  0.345647    1.000000"
      ]
     },
     "execution_count": 53,
     "metadata": {},
     "output_type": "execute_result"
    }
   ],
   "source": [
    "income.corr()"
   ]
  },
  {
   "cell_type": "markdown",
   "metadata": {},
   "source": [
    "Da beide Korrelationskoeffizienten mit 0.346 bzw. 0.308 relativ klein sind, scheint in\n",
    "beiden Fällen ein Modell beruhend auf einem linearen Zusammenhang nicht angebracht zu sein."
   ]
  }
 ],
 "metadata": {
  "kernelspec": {
   "display_name": "Python 3",
   "language": "python",
   "name": "python3"
  },
  "language_info": {
   "codemirror_mode": {
    "name": "ipython",
    "version": 3
   },
   "file_extension": ".py",
   "mimetype": "text/x-python",
   "name": "python",
   "nbconvert_exporter": "python",
   "pygments_lexer": "ipython3",
   "version": "3.7.3"
  }
 },
 "nbformat": 4,
 "nbformat_minor": 2
}
