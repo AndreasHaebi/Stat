{
 "cells": [
  {
   "cell_type": "markdown",
   "metadata": {},
   "source": [
    "# W4\n",
    "## Aufgabe 4.1"
   ]
  },
  {
   "cell_type": "markdown",
   "metadata": {},
   "source": [
    "a) Gegeben sind zwei unabhängige Zufallsvariable X und Y mit den Kennwerten\n",
    "µX = 40, σX = 15, µY = 85 und σY = 18. Berechnen Sie E(X + 2Y), Var(X + 2Y)\n",
    "und E(X^2)."
   ]
  },
  {
   "cell_type": "code",
   "execution_count": 3,
   "metadata": {},
   "outputs": [
    {
     "name": "stdout",
     "output_type": "stream",
     "text": [
      "210 1521 1825\n"
     ]
    }
   ],
   "source": [
    "ew_x = 40\n",
    "sa_x = 15\n",
    "ew_y = 85\n",
    "sa_y = 18\n",
    "\n",
    "var_x = sa_x*sa_x\n",
    "var_y = sa_y*sa_y\n",
    "\n",
    "res1 = ew_x + 2*ew_y\n",
    "res2 = var_x + 2*2*var_y\n",
    "res3 = var_x + ew_x*ew_x\n",
    "print(res1, res2, res3)"
   ]
  },
  {
   "cell_type": "markdown",
   "metadata": {},
   "source": [
    "b) Ein Werk produziert rechteckige Glasscheiben, deren Länge X und Breite Y (in\n",
    "mm gemessen) voneinander unabhängig produktionsbedingten Schwankungen\n",
    "unterliegen. Es gilt µX = 1000, σX = 0.02, µY = 500, σY = 0.01. Wie gross sind\n",
    "Erwartungswert und Standardabweichung des Umfangs U?"
   ]
  },
  {
   "cell_type": "code",
   "execution_count": 5,
   "metadata": {},
   "outputs": [
    {
     "name": "stdout",
     "output_type": "stream",
     "text": [
      "3000\n",
      "0.044721359549995794\n"
     ]
    }
   ],
   "source": [
    "import numpy as np\n",
    "\n",
    "ewx = 1000\n",
    "sax = 0.02\n",
    "ewy = 500\n",
    "say = 0.01\n",
    "\n",
    "ewu = 2*ewx+2*ewy\n",
    "print(ewu)\n",
    "\n",
    "#var(2sax + 2say)\n",
    "varx = sax*sax\n",
    "vary = say*say\n",
    "varu = 2*2*varx + 2*2*vary\n",
    "\n",
    "print(np.sqrt(varu))"
   ]
  },
  {
   "cell_type": "markdown",
   "metadata": {},
   "source": [
    "## Aufgabe 4.3\n",
    "a) Eine Elektronik-Firma stellt Widerstände her, die einen mittleren Widerstand\n",
    "von 100 Ω und eine Standardabweichung von 10 Ω haben. Die Widerstände\n",
    "sind normalverteilt. Bestimmen Sie die Wahrscheinlichkeit, dass sich für eine\n",
    "zufällige Stichprobe von n = 25 Widerständen ein mittlerer Widerstand unter\n",
    "95 Ω ergibt."
   ]
  },
  {
   "cell_type": "code",
   "execution_count": 7,
   "metadata": {},
   "outputs": [
    {
     "name": "stdout",
     "output_type": "stream",
     "text": [
      "0.006209665325776132\n"
     ]
    }
   ],
   "source": [
    "from scipy.stats import norm\n",
    "\n",
    "ew = 100\n",
    "sa = 10\n",
    "n = 25\n",
    "\n",
    "res = norm.cdf(x=95, loc=ew, scale=sa/np.sqrt(n))\n",
    "print(res)"
   ]
  },
  {
   "cell_type": "markdown",
   "metadata": {},
   "source": [
    "b) Nehmen Sie an, dass eine Zufallsvariable X einer uniformen Verteilung folgt,\n",
    "und zwar X ∼ Uniform[4, 6]. Die Zufallsvariable X40 sei der Mittelwert einer\n",
    "i.i.d. Stichprobe vom Umfang n = 40. Wie lautet die Verteilung von X40 approximativ?"
   ]
  },
  {
   "cell_type": "code",
   "execution_count": 15,
   "metadata": {},
   "outputs": [
    {
     "name": "stdout",
     "output_type": "stream",
     "text": [
      "5.0\n",
      "0.09128709291752768\n",
      "0.3021375397356768\n"
     ]
    }
   ],
   "source": [
    "a = 4\n",
    "b = 6\n",
    "n = 40\n",
    "ew = (a+b)/2\n",
    "var = ((b-a)*(b-a))/12\n",
    "print(ew)\n",
    "\n",
    "varN = np.sqrt(var)/np.sqrt(n)\n",
    "print(varN)\n",
    "print(np.sqrt(varN))"
   ]
  },
  {
   "cell_type": "markdown",
   "metadata": {},
   "source": [
    "## Aufgabe 4.4\n",
    "Es seien {Xi}1≤i≤50 unabhängige und normalverteilte Zufallsvariablen mit Erwartungswert µ = 1 und Standardabweichung σ = 2. Darüber hinaus sind folgende\n",
    "Zufallsvariablen definiert:\n",
    "Sn = X1 + X2 + · · · + Xn\n",
    "und\n",
    "Xn = 1/n(X1 + X2 + · · · + Xn) = Sn/n\n",
    "Dabei ist n = 50."
   ]
  },
  {
   "cell_type": "code",
   "execution_count": 23,
   "metadata": {},
   "outputs": [
    {
     "name": "stdout",
     "output_type": "stream",
     "text": [
      "1.0 0.08\n"
     ]
    }
   ],
   "source": [
    "ew = 1\n",
    "sa = 2\n",
    "n = 50\n",
    "ews = n*ew\n",
    "vars = n*sa*sa\n",
    "EwXn = 1/n*ews\n",
    "VarXn = 1/(n*n) * vars\n",
    "\n",
    "print(EwXn, VarXn)"
   ]
  },
  {
   "cell_type": "markdown",
   "metadata": {},
   "source": [
    "b) Berechnen Sie die Wahrscheinlichkeit P (E[X1] − 1 ≤ X1 ≤ E[X1] + 1)."
   ]
  },
  {
   "cell_type": "code",
   "execution_count": 24,
   "metadata": {},
   "outputs": [
    {
     "data": {
      "text/plain": [
       "0.38292492254802624"
      ]
     },
     "execution_count": 24,
     "metadata": {},
     "output_type": "execute_result"
    }
   ],
   "source": [
    "norm.cdf(x=ew+1, loc=ew, scale=sa) - norm.cdf(x=ew-1, loc=ew, scale=sa)"
   ]
  },
  {
   "cell_type": "markdown",
   "metadata": {},
   "source": [
    "c) Berechnen Sie P (E[Sn] − 1 ≤ Sn ≤ E[Sn] + 1)."
   ]
  },
  {
   "cell_type": "code",
   "execution_count": 27,
   "metadata": {},
   "outputs": [
    {
     "data": {
      "text/plain": [
       "0.05637197779701664"
      ]
     },
     "execution_count": 27,
     "metadata": {},
     "output_type": "execute_result"
    }
   ],
   "source": [
    "norm.cdf(x=ews+1, loc=ews, scale=np.sqrt(vars)) - norm.cdf(x=ews-1, loc=ews, scale=np.sqrt(vars))"
   ]
  },
  {
   "cell_type": "markdown",
   "metadata": {},
   "source": [
    "d) Berechnen Sie P (E[Xn] − 1 ≤ Xn ≤ E[Xn] + 1)\n"
   ]
  },
  {
   "cell_type": "code",
   "execution_count": 28,
   "metadata": {},
   "outputs": [
    {
     "data": {
      "text/plain": [
       "0.999593047982555"
      ]
     },
     "execution_count": 28,
     "metadata": {},
     "output_type": "execute_result"
    }
   ],
   "source": [
    "norm.cdf(x=EwXn+1, loc=EwXn, scale=np.sqrt(VarXn)) - norm.cdf(x=EwXn-1, loc=EwXn, scale=np.sqrt(VarXn))"
   ]
  },
  {
   "cell_type": "markdown",
   "metadata": {},
   "source": [
    "## Aufgabe 4.5\n",
    "Wir betrachten einen Datensatz, bei welchem zwei Methoden zur Bestimmung der\n",
    "latenten Schmelzwärme von Eis verglichen werden. Wiederholte Messungen der\n",
    "freigesetzten Wärme beim Übergang von Eis bei −0.7◦C zu Wasser bei 0◦C ergaben\n",
    "die folgenden Werte (in cal/g)"
   ]
  }
 ],
 "metadata": {
  "kernelspec": {
   "display_name": "Python 3",
   "language": "python",
   "name": "python3"
  },
  "language_info": {
   "codemirror_mode": {
    "name": "ipython",
    "version": 3
   },
   "file_extension": ".py",
   "mimetype": "text/x-python",
   "name": "python",
   "nbconvert_exporter": "python",
   "pygments_lexer": "ipython3",
   "version": "3.7.3"
  }
 },
 "nbformat": 4,
 "nbformat_minor": 2
}
