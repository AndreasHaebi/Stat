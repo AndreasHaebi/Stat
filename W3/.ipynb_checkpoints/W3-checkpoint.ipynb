{
 "cells": [
  {
   "cell_type": "markdown",
   "metadata": {},
   "source": [
    "# W3\n",
    "## Aufgabe 3.4\n",
    "Aufgrund langjähriger Untersuchungen ist bekannt, dass der Bleigehalt X in einer\n",
    "Bodenprobe annähernd normalverteilt ist. Ausserdem weiss man, dass der Erwartungswert 32 ppb beträgt und dass die Standardabweichung 6 ppb beträgt.\n",
    "\n"
   ]
  },
  {
   "cell_type": "markdown",
   "metadata": {},
   "source": [
    "a) Wie gross ist die Wahrscheinlichkeit, dass eine Bodenprobe höchstens 40 ppb\n",
    "Schwermetall enthält?\n",
    "Überprüfen Sie das Resultat, indem Sie die standardisierte Zufallsvariable Z einführen und mit der Standardnormalverteilung die Wahrscheinlichkeit berechnen."
   ]
  },
  {
   "cell_type": "code",
   "execution_count": 1,
   "metadata": {},
   "outputs": [
    {
     "data": {
      "text/plain": [
       "0.9087887802741321"
      ]
     },
     "execution_count": 1,
     "metadata": {},
     "output_type": "execute_result"
    }
   ],
   "source": [
    "from scipy.stats import norm\n",
    "sa = 6\n",
    "ew = 32\n",
    "\n",
    "norm.cdf(x=40, loc=ew, scale=sa)"
   ]
  },
  {
   "cell_type": "markdown",
   "metadata": {},
   "source": [
    "c) Wie gross ist die Wahrscheinlichkeit, dass eine Bodenprobe höchstens 27 ppb\n",
    "Schwermetall enthält?"
   ]
  },
  {
   "cell_type": "code",
   "execution_count": 2,
   "metadata": {},
   "outputs": [
    {
     "data": {
      "text/plain": [
       "0.20232838096364308"
      ]
     },
     "execution_count": 2,
     "metadata": {},
     "output_type": "execute_result"
    }
   ],
   "source": [
    "norm.cdf(x=27, loc=ew, scale=sa)"
   ]
  },
  {
   "cell_type": "markdown",
   "metadata": {},
   "source": [
    "d) Welcher Bleigehalt wird mit einer Wahrscheinlichkeit von 97.5 % unterschritten?\n",
    "Das heisst, bestimmen Sie dasjenige c, so dass die Wahrscheinlichkeit, dass der\n",
    "Bleigehalt kleiner oder gleich c ist, genau 97.5 % beträgt. Hinweis: Benützen Sie\n",
    "die Python -Funktion"
   ]
  },
  {
   "cell_type": "code",
   "execution_count": 3,
   "metadata": {},
   "outputs": [
    {
     "data": {
      "text/plain": [
       "43.759783907240326"
      ]
     },
     "execution_count": 3,
     "metadata": {},
     "output_type": "execute_result"
    }
   ],
   "source": [
    "norm.ppf(q=0.975, loc=ew, scale=sa)"
   ]
  },
  {
   "cell_type": "code",
   "execution_count": 4,
   "metadata": {},
   "outputs": [
    {
     "data": {
      "text/plain": [
       "43.759783907240326"
      ]
     },
     "execution_count": 4,
     "metadata": {},
     "output_type": "execute_result"
    }
   ],
   "source": [
    "c = ew + norm.ppf(q=0.975) * sa\n",
    "c"
   ]
  },
  {
   "cell_type": "markdown",
   "metadata": {},
   "source": [
    "e) Welcher Bleigehalt wird mit einer Wahrscheinlichkeit von 10 % unterschritten?"
   ]
  },
  {
   "cell_type": "code",
   "execution_count": 5,
   "metadata": {},
   "outputs": [
    {
     "data": {
      "text/plain": [
       "24.310690606732397"
      ]
     },
     "execution_count": 5,
     "metadata": {},
     "output_type": "execute_result"
    }
   ],
   "source": [
    "norm.ppf(q=0.1, loc=ew, scale=sa)"
   ]
  },
  {
   "cell_type": "markdown",
   "metadata": {},
   "source": [
    "f) Wie gross ist die Wahrscheinlichkeit, die in Aufgabe a) eingezeichnet wurde?\n",
    "a) Machen Sie eine Skizze der Dichte von X, und zeichnen Sie die Wahrscheinlichkeit, dass eine Bodenprobe zwischen 26 und 38 ppb Blei enthält, in die Skizze\n",
    "ein."
   ]
  },
  {
   "cell_type": "code",
   "execution_count": 6,
   "metadata": {},
   "outputs": [
    {
     "data": {
      "text/plain": [
       "0.6826894921370859"
      ]
     },
     "execution_count": 6,
     "metadata": {},
     "output_type": "execute_result"
    }
   ],
   "source": [
    "norm.cdf(x=38, loc=ew, scale=sa) - norm.cdf(x=26, loc=ew, scale=sa)"
   ]
  },
  {
   "cell_type": "markdown",
   "metadata": {},
   "source": [
    "## Aufgabe 3.5\n",
    "Wir gehen davon aus, dass bei der Detektion eines digitalen Signals das Hintergrundrauschen einer Normalverteilung folgt, und zwar mit einem Mittelwert von 0 Volt\n",
    "und einer Standardabweichung von 0.45 Volt. Das System geht davon aus, dass eine\n",
    "digitale 1 übertragen worden ist, wenn die Spannung 0.9 Volt überstiegen worden ist.\n",
    "\n"
   ]
  },
  {
   "cell_type": "markdown",
   "metadata": {},
   "source": [
    "a) Wie gross ist die Wahrscheinlichkeit, dass eine 1 detektiert worden ist, wenn\n",
    "in Wahrheit keine gesendet wurde? Wie interpretieren Sie diese Wahrscheinlichkeit?"
   ]
  },
  {
   "cell_type": "code",
   "execution_count": 7,
   "metadata": {},
   "outputs": [
    {
     "data": {
      "text/plain": [
       "0.02275013194817921"
      ]
     },
     "execution_count": 7,
     "metadata": {},
     "output_type": "execute_result"
    }
   ],
   "source": [
    "ew = 0\n",
    "sa = 0.45\n",
    "\n",
    "1-norm.cdf(x=0.9, loc=ew, scale=sa)"
   ]
  },
  {
   "cell_type": "markdown",
   "metadata": {},
   "source": [
    "b) Bestimmen Sie die symmetrischen Grenzen um 0 Volt, die 99 % des Hintergrundrauschens einschliessen"
   ]
  },
  {
   "cell_type": "code",
   "execution_count": 8,
   "metadata": {},
   "outputs": [
    {
     "data": {
      "text/plain": [
       "-1.1591231865970053"
      ]
     },
     "execution_count": 8,
     "metadata": {},
     "output_type": "execute_result"
    }
   ],
   "source": [
    "norm.ppf(q=0.005, loc=ew, scale=sa)"
   ]
  },
  {
   "cell_type": "code",
   "execution_count": 9,
   "metadata": {},
   "outputs": [
    {
     "data": {
      "text/plain": [
       "1.1591231865970053"
      ]
     },
     "execution_count": 9,
     "metadata": {},
     "output_type": "execute_result"
    }
   ],
   "source": [
    "norm.ppf(q=0.995, loc=ew, scale=sa)"
   ]
  },
  {
   "cell_type": "markdown",
   "metadata": {},
   "source": [
    "c) Nehmen Sie an, eine digitale 1 wird als eine Verschiebung des Mittelwertes um\n",
    "1.8 Volt im Vergleich zum Rauschsignal dargestellt. Die Standardabweichung\n",
    "des Signals ist ebenfalls 0.45 Volt. Wie gross ist die Wahrscheinlichkeit, dass\n",
    "eine digitale 1 nicht detektiert wird?"
   ]
  },
  {
   "cell_type": "code",
   "execution_count": 11,
   "metadata": {},
   "outputs": [
    {
     "data": {
      "text/plain": [
       "0.022750131948179195"
      ]
     },
     "execution_count": 11,
     "metadata": {},
     "output_type": "execute_result"
    }
   ],
   "source": [
    "ew = 1.8\n",
    "sa = 0.45\n",
    "norm.cdf(x=0.9, loc=ew, scale=sa)"
   ]
  },
  {
   "cell_type": "markdown",
   "metadata": {},
   "source": [
    "## Aufgabe 3.6\n",
    "Der Schaftdurchmesser von optischen Speicherplatten ist normalverteilt mit einem\n",
    "Mittelwert von 0.2508 Millimeter und Standardabweichung 0.0005 Millimeter. Die\n",
    "technischen Angaben des Schafts sind 0.2500 ± 0.0015 Millimeter."
   ]
  },
  {
   "cell_type": "markdown",
   "metadata": {},
   "source": [
    "a) Welcher Anteil der Schaftdurchmesser entspricht den technischen Angaben?\n"
   ]
  },
  {
   "cell_type": "code",
   "execution_count": 12,
   "metadata": {},
   "outputs": [
    {
     "data": {
      "text/plain": [
       "0.91924122831152"
      ]
     },
     "execution_count": 12,
     "metadata": {},
     "output_type": "execute_result"
    }
   ],
   "source": [
    "sa=0.0005\n",
    "ew=0.2508\n",
    "mass = 0.25\n",
    "abw = 0.0015\n",
    "\n",
    "norm.cdf(x=mass+abw, loc=ew, scale=sa) - norm.cdf(x=mass-abw, loc=ew, scale=sa)"
   ]
  },
  {
   "cell_type": "markdown",
   "metadata": {},
   "source": [
    "b) Die meisten Schaftdurchmesser sind zu gross, da der Mittelwert der Herstellung sehr nahe an der oberen Grenze der technischen Angabe liegt. Wenn\n",
    "der Herstellungsprozess derart geändert wird, dass der Mittelwert der Schaftdurchmesser nun beim Zielwert von 0.2500 liegt, welcher Anteil entspricht dann\n",
    "den technischen Angaben?"
   ]
  },
  {
   "cell_type": "code",
   "execution_count": 13,
   "metadata": {},
   "outputs": [
    {
     "data": {
      "text/plain": [
       "0.9973002039367398"
      ]
     },
     "execution_count": 13,
     "metadata": {},
     "output_type": "execute_result"
    }
   ],
   "source": [
    "ew=0.25\n",
    "norm.cdf(x=mass+abw, loc=ew, scale=sa) - norm.cdf(x=mass-abw, loc=ew, scale=sa)"
   ]
  },
  {
   "cell_type": "code",
   "execution_count": null,
   "metadata": {},
   "outputs": [],
   "source": []
  }
 ],
 "metadata": {
  "kernelspec": {
   "display_name": "Python 3",
   "language": "python",
   "name": "python3"
  },
  "language_info": {
   "codemirror_mode": {
    "name": "ipython",
    "version": 3
   },
   "file_extension": ".py",
   "mimetype": "text/x-python",
   "name": "python",
   "nbconvert_exporter": "python",
   "pygments_lexer": "ipython3",
   "version": "3.7.3"
  }
 },
 "nbformat": 4,
 "nbformat_minor": 2
}
