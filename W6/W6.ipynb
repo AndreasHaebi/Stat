{
 "cells": [
  {
   "cell_type": "markdown",
   "metadata": {},
   "source": [
    "## Aufgabe 6.1\n",
    "Ein Weinhändler behauptet, dass die von ihm gefüllten Weinflaschen 70 Zentiliter\n",
    "enthalten. Ein skeptischer Konsument vermutet aber, dass der Weinhändler zu wenig\n",
    "Wein abfüllt und will diese Behauptung überprüfen. Deshalb kauft er 12 Weinflaschen\n",
    "und misst ihren Inhalt. Er findet:\n",
    "71, 69, 67, 68, 73, 72, 71, 71, 68, 72, 69, 72 (in Zentiliter)\n",
    "Nehmen Sie zunächst an, dass die Standardabweichung der Abfüllung im Voraus\n",
    "bekannt ist. Sie beträgt σ = 1.5 Zentiliter. Da die Standardabweichung der Messungen bekannt ist, können wir einen z-Test durchführen. Führen Sie den (einseitigen; in\n",
    "welche Richtung?) Test auf dem 5 %- Signifikanzniveau durch.\n",
    "Geben Sie die Modellannahmen, H0, HA, den Verwerfungsbereich, den Wert der Teststatistik und das Testergebnis explizit an.\n",
    "Formulieren Sie in einem Satz die Schlussfolgerung für den kritischen Konsumenten."
   ]
  },
  {
   "cell_type": "markdown",
   "metadata": {},
   "source": [
    "H0 = u = u0 = 70"
   ]
  },
  {
   "cell_type": "code",
   "execution_count": 1,
   "metadata": {},
   "outputs": [
    {
     "data": {
      "text/plain": [
       "69.28775748677653"
      ]
     },
     "execution_count": 1,
     "metadata": {},
     "output_type": "execute_result"
    }
   ],
   "source": [
    "from scipy.stats import norm\n",
    "import numpy as np\n",
    "\n",
    "ew = 70\n",
    "n = 12\n",
    "sa = 1.5\n",
    "a = 0.05\n",
    "\n",
    "norm.ppf(q=a, loc=ew, scale=sa/np.sqrt(n))"
   ]
  },
  {
   "cell_type": "code",
   "execution_count": 2,
   "metadata": {},
   "outputs": [
    {
     "data": {
      "text/plain": [
       "70.25"
      ]
     },
     "execution_count": 2,
     "metadata": {},
     "output_type": "execute_result"
    }
   ],
   "source": [
    "# Entscheidung\n",
    "from pandas import Series\n",
    "wein = Series([71, 69, 67, 68, 73, 72, 71, 71, 68, 72, 69, 72])\n",
    "wein.mean()"
   ]
  },
  {
   "cell_type": "markdown",
   "metadata": {},
   "source": [
    "0 Hypothese wird nicht verworfen da 70.25 nicht im Verwerfungsbereich liegt."
   ]
  },
  {
   "cell_type": "markdown",
   "metadata": {},
   "source": [
    "## Aufgabe 6.2\n",
    "Ein Weinhändler behauptet, dass die von ihm gefüllten Weinflaschen 70 Zentiliter\n",
    "enthalten. Ein skeptischer Konsument vermutet aber, dass der Weinhändler zu wenig\n",
    "Wein abfüllt und will diese Behauptung überprüfen. Deshalb kauft er 12 Weinflaschen\n",
    "und misst ihren Inhalt. Er findet:\n",
    "71, 69, 67, 68, 73, 72, 71, 71, 68, 72, 69, 72 (in Zentiliter)\n",
    "Die Standardabweichung der Abfüllungen ist nicht bekannt. Man muss sie also aus\n",
    "den gemachten Stichproben schätzen:\n",
    "σˆ\n",
    "2\n",
    "x =\n",
    "1\n",
    "n − 1\n",
    "n\n",
    "∑\n",
    "i=1\n",
    "(xi − x)\n",
    "2 ≈ 1.962\n",
    "Da die Standardabweichung geschätzt wurde und nicht mehr exakt bekannt ist, kann\n",
    "der z-Test nicht durchgeführt werden. Verwenden Sie nun den t-Test auf dem 5 %-\n",
    "Signifikanzniveau.\n",
    "Geben Sie die Modellannahmen, H0, HA, den Verwerfungsbereich, den Wert der Teststatistik und das Testergebnis explizit an.\n",
    "1\n",
    "Was ändert sich an obigem Test?"
   ]
  },
  {
   "cell_type": "code",
   "execution_count": 4,
   "metadata": {},
   "outputs": [
    {
     "data": {
      "text/plain": [
       "1.9598237397554634"
      ]
     },
     "execution_count": 4,
     "metadata": {},
     "output_type": "execute_result"
    }
   ],
   "source": [
    "sa = wein.std()\n",
    "sa"
   ]
  },
  {
   "cell_type": "code",
   "execution_count": 6,
   "metadata": {},
   "outputs": [
    {
     "data": {
      "text/plain": [
       "68.98397388627933"
      ]
     },
     "execution_count": 6,
     "metadata": {},
     "output_type": "execute_result"
    }
   ],
   "source": [
    "from scipy.stats import t\n",
    "t.ppf(q=a, df=n-1, loc=ew, scale=sa/np.sqrt(n))"
   ]
  },
  {
   "cell_type": "code",
   "execution_count": 7,
   "metadata": {},
   "outputs": [
    {
     "data": {
      "text/plain": [
       "70.25"
      ]
     },
     "execution_count": 7,
     "metadata": {},
     "output_type": "execute_result"
    }
   ],
   "source": [
    "from pandas import Series\n",
    "wein = Series([71, 69, 67, 68, 73, 72, 71, 71, 68, 72, 69, 72])\n",
    "wein.mean()"
   ]
  },
  {
   "cell_type": "markdown",
   "metadata": {},
   "source": [
    "## Aufgabe 6.3\n",
    "Unterhalb einer Kläranlage wurden 16 unabhängige Wasserproben aus einem Fluss\n",
    "entnommen und jeweils deren Ammoniumkonzentration Xi\n",
    "(in µg NH_4-N/l) mit\n",
    "einem Messgerät bestimmt. Der Mittelwert der Proben ergab x16 = 204.2.\n",
    "Wir wollen nun wissen, ob mit diesem Experiment eine Überschreitung des Grenzwerts von 200 µg NH_4-N/l nachgewiesen werden kann (auf dem 5 % Niveau).\n",
    "\n",
    "a) Nehmen Sie an, die Standardabweichung der Messungen sei im Voraus aufgrund früherer Studien bekannt. Sie betrage 10 µg NH_4-N/l.\n",
    "Führen Sie unter dieser Annahme einen z-Test durch, um zu prüfen, ob eine\n",
    "Grenzwertüberschreitung nachgewiesen werden kann.\n",
    "Geben Sie die Modellannahmen, H0, HA, den Verwerfungsbereich, den Wert\n",
    "der Teststatistik und das Testergebnis explizit an."
   ]
  },
  {
   "cell_type": "code",
   "execution_count": 8,
   "metadata": {},
   "outputs": [
    {
     "data": {
      "text/plain": [
       "204.1121340673787"
      ]
     },
     "execution_count": 8,
     "metadata": {},
     "output_type": "execute_result"
    }
   ],
   "source": [
    "import numpy as np\n",
    "from scipy.stats import norm\n",
    "\n",
    "n = 16\n",
    "ew = 200\n",
    "sa = 10\n",
    "a = 0.05\n",
    "\n",
    "norm.ppf(q=1-a, loc=ew, scale=sa/np.sqrt(n))"
   ]
  },
  {
   "cell_type": "markdown",
   "metadata": {},
   "source": [
    "Entscheidung: der Gemessene wert 204.2 liegt im Verwerfungsbereich, damit wird die 0 Hypothese Verworfen und die überschreitung von 200 µg NH_4-N/l konnte nachgewiesen werden."
   ]
  },
  {
   "cell_type": "markdown",
   "metadata": {},
   "source": [
    "b) Wie wahrscheinlich ist es, dass man mit 16 unabhängigen Wasserproben eine\n",
    "Grenzwertüberschreitung nachweisen kann, wenn die wahre Ammoniumkonzentration tatsächlich über dem Grenzwert, und zwar bei 205 µg NH_4-N/l\n",
    "liegt?"
   ]
  },
  {
   "cell_type": "code",
   "execution_count": 10,
   "metadata": {},
   "outputs": [
    {
     "data": {
      "text/plain": [
       "0.6387600414072817"
      ]
     },
     "execution_count": 10,
     "metadata": {},
     "output_type": "execute_result"
    }
   ],
   "source": [
    "1-norm.cdf(x=204.112134, loc=205, scale=sa/np.sqrt(n))"
   ]
  },
  {
   "cell_type": "markdown",
   "metadata": {},
   "source": [
    "c) Wie wahrscheinlich ist es, dass man mit 16 unabhängigen Wasserproben fälschlicherweise eine Grenzwertüberschreitung nachweist, obwohl die wahre Ammoniumkonzentration bei 200 µg NH-4-N/l liegt und den Grenzwert somit genau einhält?"
   ]
  },
  {
   "cell_type": "code",
   "execution_count": 11,
   "metadata": {},
   "outputs": [
    {
     "data": {
      "text/plain": [
       "0.05000000277965755"
      ]
     },
     "execution_count": 11,
     "metadata": {},
     "output_type": "execute_result"
    }
   ],
   "source": [
    "1-norm.cdf(x=204.112134, loc=200, scale=sa/np.sqrt(n))"
   ]
  },
  {
   "cell_type": "markdown",
   "metadata": {},
   "source": [
    "d) Nehmen Sie an, dass die Standardabweichung von 10 µg/l aus den 16 Proben\n",
    "geschätzt worden ist. Deshalb ist nun ein t-Test (Nullhypothese µ0 = 200 µg/l)\n",
    "und nicht ein z-Test angebracht. Führen Sie den t-Test durch.\n"
   ]
  },
  {
   "cell_type": "code",
   "execution_count": 12,
   "metadata": {},
   "outputs": [
    {
     "data": {
      "text/plain": [
       "204.38262588923138"
      ]
     },
     "execution_count": 12,
     "metadata": {},
     "output_type": "execute_result"
    }
   ],
   "source": [
    "import numpy as np\n",
    "from scipy.stats import t\n",
    "\n",
    "t.ppf(q=0.95, df=n-1, loc=200, scale=10/np.sqrt(n))"
   ]
  },
  {
   "cell_type": "markdown",
   "metadata": {},
   "source": [
    "Mit einem T-Test liegt die Messung knapp ausserhalb des Verwerfungsbereichs. die 0 Hypothese wird nicht verworfen."
   ]
  }
 ],
 "metadata": {
  "kernelspec": {
   "display_name": "Python 3",
   "language": "python",
   "name": "python3"
  },
  "language_info": {
   "codemirror_mode": {
    "name": "ipython",
    "version": 3
   },
   "file_extension": ".py",
   "mimetype": "text/x-python",
   "name": "python",
   "nbconvert_exporter": "python",
   "pygments_lexer": "ipython3",
   "version": "3.7.3"
  }
 },
 "nbformat": 4,
 "nbformat_minor": 2
}
